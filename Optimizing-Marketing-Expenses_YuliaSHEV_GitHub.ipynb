{
 "cells": [
  {
   "cell_type": "markdown",
   "metadata": {},
   "source": [
    "# Research at Yandex.Afisha : optimize marketing expenses\n",
    "\n",
    "Analytical department at Yandex.Afisha has a task to help optimize marketing expenses.\n",
    "\n",
    "based on:\n",
    "* Server logs with data on Yandex.Afisha visits from June 2017 through May 2018\n",
    "* Dump file with all orders for the period\n",
    "* Marketing expenses statistics\n",
    "\n",
    "to study:\n",
    "* How people use the product\n",
    "* When they start to buy\n",
    "* How much money each customer brings\n",
    "* When they pay off\n"
   ]
  },
  {
   "cell_type": "markdown",
   "metadata": {},
   "source": [
    "## Step 1. Openning the data file and studying the general information. "
   ]
  },
  {
   "cell_type": "code",
   "execution_count": 1,
   "metadata": {},
   "outputs": [],
   "source": [
    "import pandas as pd\n",
    "import numpy as np \n",
    "import math as mt\n",
    "from math import factorial\n",
    "from scipy.stats import norm\n",
    "import matplotlib\n",
    "import matplotlib.pyplot as plt\n",
    "from scipy import stats as st\n",
    "from collections import Counter\n",
    "import seaborn as sns\n",
    "import warnings\n",
    "from datetime import date, timedelta\n",
    "import datetime as dt\n",
    "from pandas.plotting import register_matplotlib_converters\n",
    "register_matplotlib_converters()"
   ]
  },
  {
   "cell_type": "code",
   "execution_count": 2,
   "metadata": {},
   "outputs": [
    {
     "name": "stdout",
     "output_type": "stream",
     "text": [
      "<class 'pandas.core.frame.DataFrame'>\n",
      "RangeIndex: 359400 entries, 0 to 359399\n",
      "Data columns (total 5 columns):\n",
      "Device       359400 non-null object\n",
      "End Ts       359400 non-null object\n",
      "Source Id    359400 non-null int64\n",
      "Start Ts     359400 non-null object\n",
      "Uid          359400 non-null uint64\n",
      "dtypes: int64(1), object(3), uint64(1)\n",
      "memory usage: 13.7+ MB\n"
     ]
    },
    {
     "data": {
      "text/html": [
       "<div>\n",
       "<style scoped>\n",
       "    .dataframe tbody tr th:only-of-type {\n",
       "        vertical-align: middle;\n",
       "    }\n",
       "\n",
       "    .dataframe tbody tr th {\n",
       "        vertical-align: top;\n",
       "    }\n",
       "\n",
       "    .dataframe thead th {\n",
       "        text-align: right;\n",
       "    }\n",
       "</style>\n",
       "<table border=\"1\" class=\"dataframe\">\n",
       "  <thead>\n",
       "    <tr style=\"text-align: right;\">\n",
       "      <th></th>\n",
       "      <th>Device</th>\n",
       "      <th>End Ts</th>\n",
       "      <th>Source Id</th>\n",
       "      <th>Start Ts</th>\n",
       "      <th>Uid</th>\n",
       "    </tr>\n",
       "  </thead>\n",
       "  <tbody>\n",
       "    <tr>\n",
       "      <td>0</td>\n",
       "      <td>touch</td>\n",
       "      <td>2017-12-20 17:38:00</td>\n",
       "      <td>4</td>\n",
       "      <td>2017-12-20 17:20:00</td>\n",
       "      <td>16879256277535980062</td>\n",
       "    </tr>\n",
       "    <tr>\n",
       "      <td>1</td>\n",
       "      <td>desktop</td>\n",
       "      <td>2018-02-19 17:21:00</td>\n",
       "      <td>2</td>\n",
       "      <td>2018-02-19 16:53:00</td>\n",
       "      <td>104060357244891740</td>\n",
       "    </tr>\n",
       "    <tr>\n",
       "      <td>2</td>\n",
       "      <td>touch</td>\n",
       "      <td>2017-07-01 01:54:00</td>\n",
       "      <td>5</td>\n",
       "      <td>2017-07-01 01:54:00</td>\n",
       "      <td>7459035603376831527</td>\n",
       "    </tr>\n",
       "    <tr>\n",
       "      <td>3</td>\n",
       "      <td>desktop</td>\n",
       "      <td>2018-05-20 11:23:00</td>\n",
       "      <td>9</td>\n",
       "      <td>2018-05-20 10:59:00</td>\n",
       "      <td>16174680259334210214</td>\n",
       "    </tr>\n",
       "    <tr>\n",
       "      <td>4</td>\n",
       "      <td>desktop</td>\n",
       "      <td>2017-12-27 14:06:00</td>\n",
       "      <td>3</td>\n",
       "      <td>2017-12-27 14:06:00</td>\n",
       "      <td>9969694820036681168</td>\n",
       "    </tr>\n",
       "  </tbody>\n",
       "</table>\n",
       "</div>"
      ],
      "text/plain": [
       "    Device               End Ts  Source Id             Start Ts  \\\n",
       "0    touch  2017-12-20 17:38:00          4  2017-12-20 17:20:00   \n",
       "1  desktop  2018-02-19 17:21:00          2  2018-02-19 16:53:00   \n",
       "2    touch  2017-07-01 01:54:00          5  2017-07-01 01:54:00   \n",
       "3  desktop  2018-05-20 11:23:00          9  2018-05-20 10:59:00   \n",
       "4  desktop  2017-12-27 14:06:00          3  2017-12-27 14:06:00   \n",
       "\n",
       "                    Uid  \n",
       "0  16879256277535980062  \n",
       "1    104060357244891740  \n",
       "2   7459035603376831527  \n",
       "3  16174680259334210214  \n",
       "4   9969694820036681168  "
      ]
     },
     "metadata": {},
     "output_type": "display_data"
    }
   ],
   "source": [
    "#Let’s read them from the csv and check what we have there.\n",
    "#1st table from the csv file will be saved as visits:\n",
    "\n",
    "visits = pd.read_csv('/datasets/visits_log_us.csv', sep=',')\n",
    "visits.info()\n",
    "display(visits.head())"
   ]
  },
  {
   "cell_type": "code",
   "execution_count": 3,
   "metadata": {},
   "outputs": [
    {
     "name": "stdout",
     "output_type": "stream",
     "text": [
      "<class 'pandas.core.frame.DataFrame'>\n",
      "RangeIndex: 50415 entries, 0 to 50414\n",
      "Data columns (total 3 columns):\n",
      "Buy Ts     50415 non-null object\n",
      "Revenue    50415 non-null float64\n",
      "Uid        50415 non-null uint64\n",
      "dtypes: float64(1), object(1), uint64(1)\n",
      "memory usage: 1.2+ MB\n"
     ]
    },
    {
     "data": {
      "text/html": [
       "<div>\n",
       "<style scoped>\n",
       "    .dataframe tbody tr th:only-of-type {\n",
       "        vertical-align: middle;\n",
       "    }\n",
       "\n",
       "    .dataframe tbody tr th {\n",
       "        vertical-align: top;\n",
       "    }\n",
       "\n",
       "    .dataframe thead th {\n",
       "        text-align: right;\n",
       "    }\n",
       "</style>\n",
       "<table border=\"1\" class=\"dataframe\">\n",
       "  <thead>\n",
       "    <tr style=\"text-align: right;\">\n",
       "      <th></th>\n",
       "      <th>Buy Ts</th>\n",
       "      <th>Revenue</th>\n",
       "      <th>Uid</th>\n",
       "    </tr>\n",
       "  </thead>\n",
       "  <tbody>\n",
       "    <tr>\n",
       "      <td>0</td>\n",
       "      <td>2017-06-01 00:10:00</td>\n",
       "      <td>17.00</td>\n",
       "      <td>10329302124590727494</td>\n",
       "    </tr>\n",
       "    <tr>\n",
       "      <td>1</td>\n",
       "      <td>2017-06-01 00:25:00</td>\n",
       "      <td>0.55</td>\n",
       "      <td>11627257723692907447</td>\n",
       "    </tr>\n",
       "    <tr>\n",
       "      <td>2</td>\n",
       "      <td>2017-06-01 00:27:00</td>\n",
       "      <td>0.37</td>\n",
       "      <td>17903680561304213844</td>\n",
       "    </tr>\n",
       "    <tr>\n",
       "      <td>3</td>\n",
       "      <td>2017-06-01 00:29:00</td>\n",
       "      <td>0.55</td>\n",
       "      <td>16109239769442553005</td>\n",
       "    </tr>\n",
       "    <tr>\n",
       "      <td>4</td>\n",
       "      <td>2017-06-01 07:58:00</td>\n",
       "      <td>0.37</td>\n",
       "      <td>14200605875248379450</td>\n",
       "    </tr>\n",
       "  </tbody>\n",
       "</table>\n",
       "</div>"
      ],
      "text/plain": [
       "                Buy Ts  Revenue                   Uid\n",
       "0  2017-06-01 00:10:00    17.00  10329302124590727494\n",
       "1  2017-06-01 00:25:00     0.55  11627257723692907447\n",
       "2  2017-06-01 00:27:00     0.37  17903680561304213844\n",
       "3  2017-06-01 00:29:00     0.55  16109239769442553005\n",
       "4  2017-06-01 07:58:00     0.37  14200605875248379450"
      ]
     },
     "metadata": {},
     "output_type": "display_data"
    }
   ],
   "source": [
    "#2nd table from the csv file will be saved as table2:\n",
    "\n",
    "orders = pd.read_csv('/datasets/orders_log_us.csv', sep=',')\n",
    "orders.info()\n",
    "display(orders.head())"
   ]
  },
  {
   "cell_type": "code",
   "execution_count": 4,
   "metadata": {},
   "outputs": [
    {
     "name": "stdout",
     "output_type": "stream",
     "text": [
      "<class 'pandas.core.frame.DataFrame'>\n",
      "RangeIndex: 2542 entries, 0 to 2541\n",
      "Data columns (total 3 columns):\n",
      "source_id    2542 non-null int64\n",
      "dt           2542 non-null object\n",
      "costs        2542 non-null int64\n",
      "dtypes: int64(2), object(1)\n",
      "memory usage: 59.7+ KB\n"
     ]
    },
    {
     "data": {
      "text/html": [
       "<div>\n",
       "<style scoped>\n",
       "    .dataframe tbody tr th:only-of-type {\n",
       "        vertical-align: middle;\n",
       "    }\n",
       "\n",
       "    .dataframe tbody tr th {\n",
       "        vertical-align: top;\n",
       "    }\n",
       "\n",
       "    .dataframe thead th {\n",
       "        text-align: right;\n",
       "    }\n",
       "</style>\n",
       "<table border=\"1\" class=\"dataframe\">\n",
       "  <thead>\n",
       "    <tr style=\"text-align: right;\">\n",
       "      <th></th>\n",
       "      <th>source_id</th>\n",
       "      <th>dt</th>\n",
       "      <th>costs</th>\n",
       "    </tr>\n",
       "  </thead>\n",
       "  <tbody>\n",
       "    <tr>\n",
       "      <td>0</td>\n",
       "      <td>1</td>\n",
       "      <td>2017-06-01</td>\n",
       "      <td>75</td>\n",
       "    </tr>\n",
       "    <tr>\n",
       "      <td>1</td>\n",
       "      <td>1</td>\n",
       "      <td>2017-06-02</td>\n",
       "      <td>62</td>\n",
       "    </tr>\n",
       "    <tr>\n",
       "      <td>2</td>\n",
       "      <td>1</td>\n",
       "      <td>2017-06-03</td>\n",
       "      <td>36</td>\n",
       "    </tr>\n",
       "    <tr>\n",
       "      <td>3</td>\n",
       "      <td>1</td>\n",
       "      <td>2017-06-04</td>\n",
       "      <td>55</td>\n",
       "    </tr>\n",
       "    <tr>\n",
       "      <td>4</td>\n",
       "      <td>1</td>\n",
       "      <td>2017-06-05</td>\n",
       "      <td>57</td>\n",
       "    </tr>\n",
       "  </tbody>\n",
       "</table>\n",
       "</div>"
      ],
      "text/plain": [
       "   source_id          dt  costs\n",
       "0          1  2017-06-01     75\n",
       "1          1  2017-06-02     62\n",
       "2          1  2017-06-03     36\n",
       "3          1  2017-06-04     55\n",
       "4          1  2017-06-05     57"
      ]
     },
     "metadata": {},
     "output_type": "display_data"
    }
   ],
   "source": [
    "#3rd table from the csv file will be saved as table2:\n",
    "\n",
    "costs = pd.read_csv('/datasets/costs_us.csv', sep=',')\n",
    "costs.costs = costs.costs.astype(int)\n",
    "costs.info()\n",
    "display(costs.head())"
   ]
  },
  {
   "cell_type": "code",
   "execution_count": 5,
   "metadata": {},
   "outputs": [
    {
     "name": "stdout",
     "output_type": "stream",
     "text": [
      "<class 'pandas.core.frame.DataFrame'>\n",
      "RangeIndex: 2542 entries, 0 to 2541\n",
      "Data columns (total 3 columns):\n",
      "source_id    2542 non-null int64\n",
      "dt           2542 non-null object\n",
      "costs        2542 non-null int64\n",
      "dtypes: int64(2), object(1)\n",
      "memory usage: 59.7+ KB\n"
     ]
    }
   ],
   "source": [
    "costs.info()\n"
   ]
  },
  {
   "cell_type": "code",
   "execution_count": 6,
   "metadata": {},
   "outputs": [
    {
     "data": {
      "text/html": [
       "<div>\n",
       "<style scoped>\n",
       "    .dataframe tbody tr th:only-of-type {\n",
       "        vertical-align: middle;\n",
       "    }\n",
       "\n",
       "    .dataframe tbody tr th {\n",
       "        vertical-align: top;\n",
       "    }\n",
       "\n",
       "    .dataframe thead th {\n",
       "        text-align: right;\n",
       "    }\n",
       "</style>\n",
       "<table border=\"1\" class=\"dataframe\">\n",
       "  <thead>\n",
       "    <tr style=\"text-align: right;\">\n",
       "      <th></th>\n",
       "      <th>Source Id</th>\n",
       "      <th>Uid</th>\n",
       "    </tr>\n",
       "  </thead>\n",
       "  <tbody>\n",
       "    <tr>\n",
       "      <td>count</td>\n",
       "      <td>359400.000000</td>\n",
       "      <td>3.594000e+05</td>\n",
       "    </tr>\n",
       "    <tr>\n",
       "      <td>mean</td>\n",
       "      <td>3.750515</td>\n",
       "      <td>9.202557e+18</td>\n",
       "    </tr>\n",
       "    <tr>\n",
       "      <td>std</td>\n",
       "      <td>1.917116</td>\n",
       "      <td>5.298433e+18</td>\n",
       "    </tr>\n",
       "    <tr>\n",
       "      <td>min</td>\n",
       "      <td>1.000000</td>\n",
       "      <td>1.186350e+13</td>\n",
       "    </tr>\n",
       "    <tr>\n",
       "      <td>25%</td>\n",
       "      <td>3.000000</td>\n",
       "      <td>4.613407e+18</td>\n",
       "    </tr>\n",
       "    <tr>\n",
       "      <td>50%</td>\n",
       "      <td>4.000000</td>\n",
       "      <td>9.227413e+18</td>\n",
       "    </tr>\n",
       "    <tr>\n",
       "      <td>75%</td>\n",
       "      <td>5.000000</td>\n",
       "      <td>1.372824e+19</td>\n",
       "    </tr>\n",
       "    <tr>\n",
       "      <td>max</td>\n",
       "      <td>10.000000</td>\n",
       "      <td>1.844668e+19</td>\n",
       "    </tr>\n",
       "  </tbody>\n",
       "</table>\n",
       "</div>"
      ],
      "text/plain": [
       "           Source Id           Uid\n",
       "count  359400.000000  3.594000e+05\n",
       "mean        3.750515  9.202557e+18\n",
       "std         1.917116  5.298433e+18\n",
       "min         1.000000  1.186350e+13\n",
       "25%         3.000000  4.613407e+18\n",
       "50%         4.000000  9.227413e+18\n",
       "75%         5.000000  1.372824e+19\n",
       "max        10.000000  1.844668e+19"
      ]
     },
     "execution_count": 6,
     "metadata": {},
     "output_type": "execute_result"
    }
   ],
   "source": [
    "visits.describe()"
   ]
  },
  {
   "cell_type": "code",
   "execution_count": 7,
   "metadata": {},
   "outputs": [],
   "source": [
    "#Let's make sure each column contains the correct data type\n",
    "#convert columns to date type in visits table: End Ts, Start Ts\n",
    "visits['End Ts'] =  pd.to_datetime(visits['End Ts'], format=\"%Y-%m-%d %H:%M\")\n",
    "visits['Start Ts'] =  pd.to_datetime(visits['Start Ts'], format=\"%Y-%m-%d %H:%M\")\n",
    "\n",
    "#convert columns to date type in orders table: Buy Ts\n",
    "orders['Buy Ts'] =  pd.to_datetime(orders['Buy Ts'], format=\"%Y-%m-%d %H:%M\")\n",
    "\n",
    "#convert columns to date type in costs table: dt\n",
    "costs['dt'] =  pd.to_datetime(costs['dt'], format=\"%Y-%m-%d %H:%M\")"
   ]
  },
  {
   "cell_type": "code",
   "execution_count": 8,
   "metadata": {},
   "outputs": [],
   "source": [
    "visits.columns = map(str.lower, visits.columns)\n",
    "visits.columns = visits.columns.str.replace(' ', '_')\n",
    "orders.columns = map(str.lower, orders.columns)\n",
    "orders.columns = orders.columns.str.replace(' ', '_')\n",
    "costs.columns = map(str.lower, costs.columns)\n",
    "costs.columns = costs.columns.str.replace(' ', '_')"
   ]
  },
  {
   "cell_type": "code",
   "execution_count": 9,
   "metadata": {},
   "outputs": [
    {
     "name": "stdout",
     "output_type": "stream",
     "text": [
      "<class 'pandas.core.frame.DataFrame'>\n",
      "RangeIndex: 359400 entries, 0 to 359399\n",
      "Data columns (total 5 columns):\n",
      "device       359400 non-null object\n",
      "end_ts       359400 non-null datetime64[ns]\n",
      "source_id    359400 non-null int64\n",
      "start_ts     359400 non-null datetime64[ns]\n",
      "uid          359400 non-null uint64\n",
      "dtypes: datetime64[ns](2), int64(1), object(1), uint64(1)\n",
      "memory usage: 13.7+ MB\n"
     ]
    }
   ],
   "source": [
    "visits.info()"
   ]
  },
  {
   "cell_type": "markdown",
   "metadata": {},
   "source": [
    "### Conclusion\n",
    "\n",
    "There are 3 data sets. Every data set is saved as a variable:\n",
    "\n",
    "**visits**\n",
    "\n",
    "Its total length is 359400 rows, every row represents one server log with data on website visits and its characteristics in columns: Uid — user's unique identifier; Device — user's device; Start Ts — session start date and time; End Ts — session end date and time; Source Id — identifier of the ad source the user came from.\n",
    "\n",
    "**orders**\n",
    "\n",
    "Its total length is 50415 rows, every row represents one order and its characteristics in columns: Uid — unique identifier of the user making an order; Buy Ts — order date and time; Revenue — Yandex.Afisha's revenue from the order.\n",
    "\n",
    "**costs**\n",
    "\n",
    "Its total length is 2542 rows, every row represents one marketing expense and its characteristics in columns: source_id — ad source identifier; dt — date; costs — expenses on this ad source on this day.\n",
    "    \n",
    "As part of out analysis, we made sure each column contains the correct data type and converted below elements to date time format:\n",
    "- visits table: End Ts, Start Ts\n",
    "- orders table: Buy Ts\n",
    "- costs table: dt ."
   ]
  },
  {
   "cell_type": "markdown",
   "metadata": {},
   "source": [
    "## Step 2. Making reports and calculating metrics\n"
   ]
  },
  {
   "cell_type": "markdown",
   "metadata": {},
   "source": [
    "### Part 1: Product:\n",
    "    * How many people use it every day, week, and month?\n",
    "    * How many sessions are there per day? (One user might have more than one session.)\n",
    "    * What is the length of each session?\n",
    "    * How often do users come back?"
   ]
  },
  {
   "cell_type": "markdown",
   "metadata": {},
   "source": [
    "#### 1.1. How many people use it every day, week, and month"
   ]
  },
  {
   "cell_type": "code",
   "execution_count": 81,
   "metadata": {},
   "outputs": [],
   "source": [
    "visits['visits_week']  = visits['start_ts'].dt.week \n",
    "#visits['visits_week']"
   ]
  },
  {
   "cell_type": "code",
   "execution_count": 11,
   "metadata": {},
   "outputs": [
    {
     "name": "stdout",
     "output_type": "stream",
     "text": [
      "how often users return to the app (week) 15 %\n",
      "how often users return to the app (month) 3 %\n",
      "the number of daily active (unique) users: 907\n",
      "the number of weekly active users: 5716\n",
      "the number of monthly active users: 23228\n"
     ]
    }
   ],
   "source": [
    "visits['visits_year']  = visits['start_ts'].dt.year\n",
    "visits['visits_month'] = visits['start_ts'].dt.month\n",
    "visits['visits_week']  = visits['start_ts'].dt.week \n",
    "visits['visits_date'] = visits['start_ts'].dt.date\n",
    "\n",
    "dau_total = visits.groupby('visits_date').agg({'uid': 'nunique'}).mean()\n",
    "wau_total = visits.groupby(['visits_week','visits_year']).agg({'uid': 'nunique'}).mean()\n",
    "mau_total = visits.groupby(['visits_month', 'visits_year']).agg({'uid': 'nunique'}).mean()\n",
    "\n",
    "sticky_wau = dau_total/wau_total*100\n",
    "print('how often users return to the app (week)',int(sticky_wau),'%')\n",
    "sticky_mau = dau_total/mau_total*100\n",
    "print('how often users return to the app (month)',int(sticky_mau),'%')\n",
    "\n",
    "print('the number of daily active (unique) users:',int(dau_total))\n",
    "print('the number of weekly active users:',int(wau_total))\n",
    "print('the number of monthly active users:',int(mau_total))"
   ]
  },
  {
   "cell_type": "code",
   "execution_count": 12,
   "metadata": {},
   "outputs": [],
   "source": [
    "dau = visits[['uid','visits_date','visits_year']]\n",
    "dau = dau.groupby(['visits_date','visits_year']).agg({'uid':'count'}).sort_values(by = 'uid', ascending=False).reset_index()\n",
    "\n",
    "wau = visits[['uid','visits_week','visits_year']]\n",
    "wau = wau.groupby(['visits_week','visits_year']).agg({'uid':'count'}).sort_values(by = 'uid', ascending=False).reset_index()\n",
    "\n",
    "mau = visits[['uid','visits_month','visits_year']]\n",
    "mau = mau.groupby(['visits_month','visits_year']).agg({'uid':'count'}).sort_values(by = 'uid', ascending=False).reset_index()\n"
   ]
  },
  {
   "cell_type": "code",
   "execution_count": 13,
   "metadata": {},
   "outputs": [
    {
     "data": {
      "text/html": [
       "<div>\n",
       "<style scoped>\n",
       "    .dataframe tbody tr th:only-of-type {\n",
       "        vertical-align: middle;\n",
       "    }\n",
       "\n",
       "    .dataframe tbody tr th {\n",
       "        vertical-align: top;\n",
       "    }\n",
       "\n",
       "    .dataframe thead th {\n",
       "        text-align: right;\n",
       "    }\n",
       "</style>\n",
       "<table border=\"1\" class=\"dataframe\">\n",
       "  <thead>\n",
       "    <tr style=\"text-align: right;\">\n",
       "      <th></th>\n",
       "      <th>visits_week</th>\n",
       "      <th>visits_year</th>\n",
       "      <th>uid</th>\n",
       "    </tr>\n",
       "  </thead>\n",
       "  <tbody>\n",
       "    <tr>\n",
       "      <td>33</td>\n",
       "      <td>22</td>\n",
       "      <td>2018</td>\n",
       "      <td>5857</td>\n",
       "    </tr>\n",
       "    <tr>\n",
       "      <td>52</td>\n",
       "      <td>22</td>\n",
       "      <td>2017</td>\n",
       "      <td>2309</td>\n",
       "    </tr>\n",
       "  </tbody>\n",
       "</table>\n",
       "</div>"
      ],
      "text/plain": [
       "    visits_week  visits_year   uid\n",
       "33           22         2018  5857\n",
       "52           22         2017  2309"
      ]
     },
     "execution_count": 13,
     "metadata": {},
     "output_type": "execute_result"
    }
   ],
   "source": [
    "wau.query('visits_week == 22')"
   ]
  },
  {
   "cell_type": "code",
   "execution_count": 14,
   "metadata": {},
   "outputs": [
    {
     "data": {
      "image/png": "[encoded data removed]",
      "text/plain": [
       "<Figure size 1080x216 with 1 Axes>"
      ]
     },
     "metadata": {
      "needs_background": "light"
     },
     "output_type": "display_data"
    },
    {
     "data": {
      "image/png": "[encoded data removed]",
      "text/plain": [
       "<Figure size 1080x216 with 1 Axes>"
      ]
     },
     "metadata": {
      "needs_background": "light"
     },
     "output_type": "display_data"
    },
    {
     "data": {
      "image/png": "[encoded data removed]",
      "text/plain": [
       "<Figure size 1080x216 with 1 Axes>"
      ]
     },
     "metadata": {
      "needs_background": "light"
     },
     "output_type": "display_data"
    }
   ],
   "source": [
    "fig,ax=plt.subplots(figsize=(15,3))\n",
    "ax.vlines(x=dau.visits_date, ymin=0, ymax=dau.uid, color='green', alpha=0.7,linewidth=2)\n",
    "ax.set_title('Chart for DAU', fontdict={'size':15})\n",
    "ax.set_ylabel('Number of Users')\n",
    "ax.set_xticklabels(dau.visits_date)\n",
    "\n",
    "\n",
    "fig,ax=plt.subplots(figsize=(15,3))\n",
    "ax.vlines(x=wau.visits_week, ymin=0, ymax=wau.uid, color='black', alpha=0.7,linewidth=2)\n",
    "ax.set_title('Chart for WAU', fontdict={'size':15})\n",
    "ax.set_ylabel('Number of Users')\n",
    "ax.set_xticks(wau.visits_week)\n",
    "ax.scatter(x=wau.visits_week, y=wau.uid, s=75, color='red', alpha=0.7)\n",
    "\n",
    "fig,ax=plt.subplots(figsize=(15,3))\n",
    "ax.vlines(x=mau.visits_month, ymin=0, ymax=mau.uid, color='purple', alpha=0.7,linewidth=2)\n",
    "ax.set_title('Chart for MAU', fontdict={'size':15})\n",
    "ax.set_ylabel('Number of Users')\n",
    "ax.set_xticks(mau.visits_month)\n",
    "ax.scatter(x=mau.visits_month, y=mau.uid, s=75, color='red', alpha=0.7)\n",
    "for row in mau.itertuples():\n",
    "    ax.text(row.visits_month, row.uid+30, s=round(row.uid, 2))\n"
   ]
  },
  {
   "cell_type": "markdown",
   "metadata": {},
   "source": [
    "We can see that 3% if unique users return to the app on the weekly (sticky WAU) basis and 15 % on the monthly basis (sticky MAU)\n",
    "- the number of daily active (unique) users: 907\n",
    "- the number of weekly active users: 5716\n",
    "- the number of monthly active users: 23228"
   ]
  },
  {
   "cell_type": "markdown",
   "metadata": {},
   "source": [
    "Note: our data contains visits from June 2017 through May 2018, in 2017 week 22 was in June, while in 2018 it was in May, that's why we can see it twice on our WAU graph.\n",
    "\n",
    "We saw that the minimum of users was in the week 22 in 2017 (beginning of our data set).\n",
    "\n",
    "We saw the spike of the daily and monthly active users in Nov'17 (that is around week 46-47)."
   ]
  },
  {
   "cell_type": "markdown",
   "metadata": {},
   "source": [
    "#### 1.2. How many sessions are there per day"
   ]
  },
  {
   "cell_type": "code",
   "execution_count": 15,
   "metadata": {},
   "outputs": [],
   "source": [
    "#Now let's check how many sessions are there per day (note: one user might have more than one session)\n",
    "#we'll build a line graph with total session count per day\n",
    "\n",
    "visits\n",
    "visits1 = visits[['uid','visits_date']]\n",
    "visits1 = visits1.groupby('visits_date').agg({'uid':'count'}).sort_values(by = 'uid', ascending=False).reset_index()\n"
   ]
  },
  {
   "cell_type": "code",
   "execution_count": 16,
   "metadata": {},
   "outputs": [
    {
     "name": "stdout",
     "output_type": "stream",
     "text": [
      "  visits_date   uid\n",
      "0  2017-11-24  4042\n",
      "1  2018-05-31  2256\n",
      "2  2017-11-25  2089\n",
      "3  2018-02-01  1878\n",
      "4  2018-03-26  1796\n"
     ]
    }
   ],
   "source": [
    "print(visits1.head())"
   ]
  },
  {
   "cell_type": "code",
   "execution_count": 17,
   "metadata": {},
   "outputs": [
    {
     "data": {
      "image/png": "[encoded data removed]",
      "text/plain": [
       "<Figure size 1224x360 with 1 Axes>"
      ]
     },
     "metadata": {
      "needs_background": "light"
     },
     "output_type": "display_data"
    }
   ],
   "source": [
    "plt.figure(figsize=(17,5))\n",
    "plt.title('Total Session Count per Day')\n",
    "sns.lineplot(x = \"visits_date\", y = \"uid\",data=visits1)\n",
    "sns.set(style='darkgrid')\n",
    "# Using a variable to manage how above/below text should appear\n",
    "slider = 10\n",
    "for i in range(visits1.shape[0]):\n",
    "    if visits1['uid'].iloc[i] > 2000 or visits1['uid'].iloc[i] < 200:\n",
    "        plt.text(visits1.visits_date.iloc[i], \n",
    "                 visits1['uid'].iloc[i] + slider,  \n",
    "                 visits1['visits_date'].iloc[i])\n",
    "plt.show()"
   ]
  },
  {
   "cell_type": "markdown",
   "metadata": {},
   "source": [
    "we can see that in average there september through march there are around 1000-1500 sessions a day\n",
    "\n",
    "we have couple of spikes on 24-25/11/2017 with more than 4000 sessions and 31/05/2018 with 2300 sessions and a drop to 0 on 30-31/03/2018."
   ]
  },
  {
   "cell_type": "code",
   "execution_count": 18,
   "metadata": {},
   "outputs": [
    {
     "data": {
      "text/html": [
       "<div>\n",
       "<style scoped>\n",
       "    .dataframe tbody tr th:only-of-type {\n",
       "        vertical-align: middle;\n",
       "    }\n",
       "\n",
       "    .dataframe tbody tr th {\n",
       "        vertical-align: top;\n",
       "    }\n",
       "\n",
       "    .dataframe thead th {\n",
       "        text-align: right;\n",
       "    }\n",
       "</style>\n",
       "<table border=\"1\" class=\"dataframe\">\n",
       "  <thead>\n",
       "    <tr style=\"text-align: right;\">\n",
       "      <th></th>\n",
       "      <th>device</th>\n",
       "      <th>end_ts</th>\n",
       "      <th>source_id</th>\n",
       "      <th>start_ts</th>\n",
       "      <th>uid</th>\n",
       "      <th>visits_week</th>\n",
       "      <th>visits_year</th>\n",
       "      <th>visits_month</th>\n",
       "      <th>visits_date</th>\n",
       "    </tr>\n",
       "  </thead>\n",
       "  <tbody>\n",
       "    <tr>\n",
       "      <td>0</td>\n",
       "      <td>touch</td>\n",
       "      <td>2017-12-20 17:38:00</td>\n",
       "      <td>4</td>\n",
       "      <td>2017-12-20 17:20:00</td>\n",
       "      <td>16879256277535980062</td>\n",
       "      <td>51</td>\n",
       "      <td>2017</td>\n",
       "      <td>12</td>\n",
       "      <td>2017-12-20</td>\n",
       "    </tr>\n",
       "    <tr>\n",
       "      <td>1</td>\n",
       "      <td>desktop</td>\n",
       "      <td>2018-02-19 17:21:00</td>\n",
       "      <td>2</td>\n",
       "      <td>2018-02-19 16:53:00</td>\n",
       "      <td>104060357244891740</td>\n",
       "      <td>8</td>\n",
       "      <td>2018</td>\n",
       "      <td>2</td>\n",
       "      <td>2018-02-19</td>\n",
       "    </tr>\n",
       "    <tr>\n",
       "      <td>2</td>\n",
       "      <td>touch</td>\n",
       "      <td>2017-07-01 01:54:00</td>\n",
       "      <td>5</td>\n",
       "      <td>2017-07-01 01:54:00</td>\n",
       "      <td>7459035603376831527</td>\n",
       "      <td>26</td>\n",
       "      <td>2017</td>\n",
       "      <td>7</td>\n",
       "      <td>2017-07-01</td>\n",
       "    </tr>\n",
       "    <tr>\n",
       "      <td>3</td>\n",
       "      <td>desktop</td>\n",
       "      <td>2018-05-20 11:23:00</td>\n",
       "      <td>9</td>\n",
       "      <td>2018-05-20 10:59:00</td>\n",
       "      <td>16174680259334210214</td>\n",
       "      <td>20</td>\n",
       "      <td>2018</td>\n",
       "      <td>5</td>\n",
       "      <td>2018-05-20</td>\n",
       "    </tr>\n",
       "    <tr>\n",
       "      <td>4</td>\n",
       "      <td>desktop</td>\n",
       "      <td>2017-12-27 14:06:00</td>\n",
       "      <td>3</td>\n",
       "      <td>2017-12-27 14:06:00</td>\n",
       "      <td>9969694820036681168</td>\n",
       "      <td>52</td>\n",
       "      <td>2017</td>\n",
       "      <td>12</td>\n",
       "      <td>2017-12-27</td>\n",
       "    </tr>\n",
       "  </tbody>\n",
       "</table>\n",
       "</div>"
      ],
      "text/plain": [
       "    device              end_ts  source_id            start_ts  \\\n",
       "0    touch 2017-12-20 17:38:00          4 2017-12-20 17:20:00   \n",
       "1  desktop 2018-02-19 17:21:00          2 2018-02-19 16:53:00   \n",
       "2    touch 2017-07-01 01:54:00          5 2017-07-01 01:54:00   \n",
       "3  desktop 2018-05-20 11:23:00          9 2018-05-20 10:59:00   \n",
       "4  desktop 2017-12-27 14:06:00          3 2017-12-27 14:06:00   \n",
       "\n",
       "                    uid  visits_week  visits_year  visits_month visits_date  \n",
       "0  16879256277535980062           51         2017            12  2017-12-20  \n",
       "1    104060357244891740            8         2018             2  2018-02-19  \n",
       "2   7459035603376831527           26         2017             7  2017-07-01  \n",
       "3  16174680259334210214           20         2018             5  2018-05-20  \n",
       "4   9969694820036681168           52         2017            12  2017-12-27  "
      ]
     },
     "execution_count": 18,
     "metadata": {},
     "output_type": "execute_result"
    }
   ],
   "source": [
    "visits.head()"
   ]
  },
  {
   "cell_type": "markdown",
   "metadata": {},
   "source": [
    "#### 1.3. What is the length of each session"
   ]
  },
  {
   "cell_type": "code",
   "execution_count": 19,
   "metadata": {},
   "outputs": [],
   "source": [
    "#Let's see what is the length of each session\n",
    "\n",
    "visits['session_duration_sec'] = (visits['end_ts'] - visits['start_ts']).dt.seconds"
   ]
  },
  {
   "cell_type": "code",
   "execution_count": 20,
   "metadata": {},
   "outputs": [
    {
     "data": {
      "text/html": [
       "<div>\n",
       "<style scoped>\n",
       "    .dataframe tbody tr th:only-of-type {\n",
       "        vertical-align: middle;\n",
       "    }\n",
       "\n",
       "    .dataframe tbody tr th {\n",
       "        vertical-align: top;\n",
       "    }\n",
       "\n",
       "    .dataframe thead th {\n",
       "        text-align: right;\n",
       "    }\n",
       "</style>\n",
       "<table border=\"1\" class=\"dataframe\">\n",
       "  <thead>\n",
       "    <tr style=\"text-align: right;\">\n",
       "      <th></th>\n",
       "      <th>device</th>\n",
       "      <th>end_ts</th>\n",
       "      <th>source_id</th>\n",
       "      <th>start_ts</th>\n",
       "      <th>uid</th>\n",
       "      <th>visits_week</th>\n",
       "      <th>visits_year</th>\n",
       "      <th>visits_month</th>\n",
       "      <th>visits_date</th>\n",
       "      <th>session_duration_sec</th>\n",
       "    </tr>\n",
       "  </thead>\n",
       "  <tbody>\n",
       "    <tr>\n",
       "      <td>0</td>\n",
       "      <td>touch</td>\n",
       "      <td>2017-12-20 17:38:00</td>\n",
       "      <td>4</td>\n",
       "      <td>2017-12-20 17:20:00</td>\n",
       "      <td>16879256277535980062</td>\n",
       "      <td>51</td>\n",
       "      <td>2017</td>\n",
       "      <td>12</td>\n",
       "      <td>2017-12-20</td>\n",
       "      <td>1080</td>\n",
       "    </tr>\n",
       "    <tr>\n",
       "      <td>1</td>\n",
       "      <td>desktop</td>\n",
       "      <td>2018-02-19 17:21:00</td>\n",
       "      <td>2</td>\n",
       "      <td>2018-02-19 16:53:00</td>\n",
       "      <td>104060357244891740</td>\n",
       "      <td>8</td>\n",
       "      <td>2018</td>\n",
       "      <td>2</td>\n",
       "      <td>2018-02-19</td>\n",
       "      <td>1680</td>\n",
       "    </tr>\n",
       "    <tr>\n",
       "      <td>2</td>\n",
       "      <td>touch</td>\n",
       "      <td>2017-07-01 01:54:00</td>\n",
       "      <td>5</td>\n",
       "      <td>2017-07-01 01:54:00</td>\n",
       "      <td>7459035603376831527</td>\n",
       "      <td>26</td>\n",
       "      <td>2017</td>\n",
       "      <td>7</td>\n",
       "      <td>2017-07-01</td>\n",
       "      <td>0</td>\n",
       "    </tr>\n",
       "    <tr>\n",
       "      <td>3</td>\n",
       "      <td>desktop</td>\n",
       "      <td>2018-05-20 11:23:00</td>\n",
       "      <td>9</td>\n",
       "      <td>2018-05-20 10:59:00</td>\n",
       "      <td>16174680259334210214</td>\n",
       "      <td>20</td>\n",
       "      <td>2018</td>\n",
       "      <td>5</td>\n",
       "      <td>2018-05-20</td>\n",
       "      <td>1440</td>\n",
       "    </tr>\n",
       "    <tr>\n",
       "      <td>4</td>\n",
       "      <td>desktop</td>\n",
       "      <td>2017-12-27 14:06:00</td>\n",
       "      <td>3</td>\n",
       "      <td>2017-12-27 14:06:00</td>\n",
       "      <td>9969694820036681168</td>\n",
       "      <td>52</td>\n",
       "      <td>2017</td>\n",
       "      <td>12</td>\n",
       "      <td>2017-12-27</td>\n",
       "      <td>0</td>\n",
       "    </tr>\n",
       "  </tbody>\n",
       "</table>\n",
       "</div>"
      ],
      "text/plain": [
       "    device              end_ts  source_id            start_ts  \\\n",
       "0    touch 2017-12-20 17:38:00          4 2017-12-20 17:20:00   \n",
       "1  desktop 2018-02-19 17:21:00          2 2018-02-19 16:53:00   \n",
       "2    touch 2017-07-01 01:54:00          5 2017-07-01 01:54:00   \n",
       "3  desktop 2018-05-20 11:23:00          9 2018-05-20 10:59:00   \n",
       "4  desktop 2017-12-27 14:06:00          3 2017-12-27 14:06:00   \n",
       "\n",
       "                    uid  visits_week  visits_year  visits_month visits_date  \\\n",
       "0  16879256277535980062           51         2017            12  2017-12-20   \n",
       "1    104060357244891740            8         2018             2  2018-02-19   \n",
       "2   7459035603376831527           26         2017             7  2017-07-01   \n",
       "3  16174680259334210214           20         2018             5  2018-05-20   \n",
       "4   9969694820036681168           52         2017            12  2017-12-27   \n",
       "\n",
       "   session_duration_sec  \n",
       "0                  1080  \n",
       "1                  1680  \n",
       "2                     0  \n",
       "3                  1440  \n",
       "4                     0  "
      ]
     },
     "execution_count": 20,
     "metadata": {},
     "output_type": "execute_result"
    }
   ],
   "source": [
    "visits.head()"
   ]
  },
  {
   "cell_type": "code",
   "execution_count": 21,
   "metadata": {},
   "outputs": [
    {
     "data": {
      "text/plain": [
       "Text(330.0, 128845.70999999999, 'Median: 300.0')"
      ]
     },
     "execution_count": 21,
     "metadata": {},
     "output_type": "execute_result"
    },
    {
     "data": {
      "image/png": "[encoded data removed]",
      "text/plain": [
       "<Figure size 1224x216 with 1 Axes>"
      ]
     },
     "metadata": {},
     "output_type": "display_data"
    }
   ],
   "source": [
    "plt.figure(figsize=(17,3))\n",
    "visits['session_duration_sec'].plot(\n",
    "    kind='hist', y='session_duration_sec', \n",
    "    histtype='step', range=(0, 4000), grid=True, legend=True)\n",
    "plt.axvline(visits['session_duration_sec'].mean(), color='red', linestyle='dashed', linewidth=2)\n",
    "plt.axvline(visits['session_duration_sec'].median(), color='cyan', linewidth=2)\n",
    "min_ylim, max_ylim = plt.ylim()\n",
    "plt.text(visits['session_duration_sec'].mean()*1.1, max_ylim*0.9, \n",
    "         'Mean: {:.1f}'.format(visits['session_duration_sec'].mean()))\n",
    "plt.text(visits['session_duration_sec'].median()*1.1, max_ylim*0.6, \n",
    "         'Median: {:.1f}'.format(visits['session_duration_sec'].median()))\n"
   ]
  },
  {
   "cell_type": "code",
   "execution_count": 22,
   "metadata": {
    "scrolled": true
   },
   "outputs": [
    {
     "data": {
      "text/plain": [
       "Text(0, 0.5, 'seconds')"
      ]
     },
     "execution_count": 22,
     "metadata": {},
     "output_type": "execute_result"
    },
    {
     "data": {
      "image/png": "[encoded data removed]",
      "text/plain": [
       "<Figure size 1224x216 with 1 Axes>"
      ]
     },
     "metadata": {},
     "output_type": "display_data"
    }
   ],
   "source": [
    "plt.figure(figsize=(17,3))\n",
    "plt.title('Session Duration (sec)')\n",
    "visits.session_duration_sec.plot()\n",
    "plt.xlabel(\"number of visits\")\n",
    "plt.ylabel(\"seconds\")"
   ]
  },
  {
   "cell_type": "code",
   "execution_count": 23,
   "metadata": {
    "scrolled": false
   },
   "outputs": [
    {
     "data": {
      "text/plain": [
       "count    359400.000000\n",
       "mean        643.506489\n",
       "std        1016.334786\n",
       "min           0.000000\n",
       "25%         120.000000\n",
       "50%         300.000000\n",
       "75%         840.000000\n",
       "max       84480.000000\n",
       "Name: session_duration_sec, dtype: float64"
      ]
     },
     "execution_count": 23,
     "metadata": {},
     "output_type": "execute_result"
    }
   ],
   "source": [
    "visits.session_duration_sec.describe()"
   ]
  },
  {
   "cell_type": "markdown",
   "metadata": {},
   "source": [
    "While checking the session duration we saw that the average session lasts 643 sec, max is 84480 sec (almost 24h) and the median is 300 sec and standard deviation is 1016 sec."
   ]
  },
  {
   "cell_type": "markdown",
   "metadata": {},
   "source": [
    "#### 1.4. How often do users come back"
   ]
  },
  {
   "cell_type": "code",
   "execution_count": 24,
   "metadata": {},
   "outputs": [],
   "source": [
    "# let's find first activity date for every user\n",
    "visits['start_ts'] = pd.to_datetime(visits['start_ts'])\n",
    "first_activity_date = visits.groupby(['uid'])['start_ts'].min()\n",
    "first_activity_date.name = 'first_activity_date'\n"
   ]
  },
  {
   "cell_type": "code",
   "execution_count": 25,
   "metadata": {},
   "outputs": [],
   "source": [
    "user_activity = visits.join(first_activity_date,on='uid')\n",
    "user_activity['first_activity_date'] = pd.to_datetime(user_activity['first_activity_date']).dt.normalize()\n"
   ]
  },
  {
   "cell_type": "code",
   "execution_count": 26,
   "metadata": {},
   "outputs": [],
   "source": [
    "# let's find first activity month for every user\n",
    "\n",
    "user_activity['start_ts'] = user_activity['start_ts'].astype('datetime64[D]')\n",
    "user_activity['activity_month'] = user_activity['start_ts'].astype('datetime64[M]')\n",
    "user_activity['first_activity_month'] = user_activity['first_activity_date'].astype('datetime64[M]')"
   ]
  },
  {
   "cell_type": "code",
   "execution_count": 27,
   "metadata": {},
   "outputs": [
    {
     "data": {
      "text/html": [
       "<div>\n",
       "<style scoped>\n",
       "    .dataframe tbody tr th:only-of-type {\n",
       "        vertical-align: middle;\n",
       "    }\n",
       "\n",
       "    .dataframe tbody tr th {\n",
       "        vertical-align: top;\n",
       "    }\n",
       "\n",
       "    .dataframe thead th {\n",
       "        text-align: right;\n",
       "    }\n",
       "</style>\n",
       "<table border=\"1\" class=\"dataframe\">\n",
       "  <thead>\n",
       "    <tr style=\"text-align: right;\">\n",
       "      <th></th>\n",
       "      <th>device</th>\n",
       "      <th>end_ts</th>\n",
       "      <th>source_id</th>\n",
       "      <th>start_ts</th>\n",
       "      <th>uid</th>\n",
       "      <th>visits_week</th>\n",
       "      <th>visits_year</th>\n",
       "      <th>visits_month</th>\n",
       "      <th>visits_date</th>\n",
       "      <th>session_duration_sec</th>\n",
       "      <th>first_activity_date</th>\n",
       "      <th>activity_month</th>\n",
       "      <th>first_activity_month</th>\n",
       "      <th>cohort_lifetime</th>\n",
       "    </tr>\n",
       "  </thead>\n",
       "  <tbody>\n",
       "    <tr>\n",
       "      <td>0</td>\n",
       "      <td>touch</td>\n",
       "      <td>2017-12-20 17:38:00</td>\n",
       "      <td>4</td>\n",
       "      <td>2017-12-20</td>\n",
       "      <td>16879256277535980062</td>\n",
       "      <td>51</td>\n",
       "      <td>2017</td>\n",
       "      <td>12</td>\n",
       "      <td>2017-12-20</td>\n",
       "      <td>1080</td>\n",
       "      <td>2017-12-20</td>\n",
       "      <td>2017-12-01</td>\n",
       "      <td>2017-12-01</td>\n",
       "      <td>0</td>\n",
       "    </tr>\n",
       "    <tr>\n",
       "      <td>1</td>\n",
       "      <td>desktop</td>\n",
       "      <td>2018-02-19 17:21:00</td>\n",
       "      <td>2</td>\n",
       "      <td>2018-02-19</td>\n",
       "      <td>104060357244891740</td>\n",
       "      <td>8</td>\n",
       "      <td>2018</td>\n",
       "      <td>2</td>\n",
       "      <td>2018-02-19</td>\n",
       "      <td>1680</td>\n",
       "      <td>2018-02-19</td>\n",
       "      <td>2018-02-01</td>\n",
       "      <td>2018-02-01</td>\n",
       "      <td>0</td>\n",
       "    </tr>\n",
       "    <tr>\n",
       "      <td>2</td>\n",
       "      <td>touch</td>\n",
       "      <td>2017-07-01 01:54:00</td>\n",
       "      <td>5</td>\n",
       "      <td>2017-07-01</td>\n",
       "      <td>7459035603376831527</td>\n",
       "      <td>26</td>\n",
       "      <td>2017</td>\n",
       "      <td>7</td>\n",
       "      <td>2017-07-01</td>\n",
       "      <td>0</td>\n",
       "      <td>2017-07-01</td>\n",
       "      <td>2017-07-01</td>\n",
       "      <td>2017-07-01</td>\n",
       "      <td>0</td>\n",
       "    </tr>\n",
       "  </tbody>\n",
       "</table>\n",
       "</div>"
      ],
      "text/plain": [
       "    device              end_ts  source_id   start_ts                   uid  \\\n",
       "0    touch 2017-12-20 17:38:00          4 2017-12-20  16879256277535980062   \n",
       "1  desktop 2018-02-19 17:21:00          2 2018-02-19    104060357244891740   \n",
       "2    touch 2017-07-01 01:54:00          5 2017-07-01   7459035603376831527   \n",
       "\n",
       "   visits_week  visits_year  visits_month visits_date  session_duration_sec  \\\n",
       "0           51         2017            12  2017-12-20                  1080   \n",
       "1            8         2018             2  2018-02-19                  1680   \n",
       "2           26         2017             7  2017-07-01                     0   \n",
       "\n",
       "  first_activity_date activity_month first_activity_month  cohort_lifetime  \n",
       "0          2017-12-20     2017-12-01           2017-12-01                0  \n",
       "1          2018-02-19     2018-02-01           2018-02-01                0  \n",
       "2          2017-07-01     2017-07-01           2017-07-01                0  "
      ]
     },
     "execution_count": 27,
     "metadata": {},
     "output_type": "execute_result"
    }
   ],
   "source": [
    "# let's find cohort lifetime\n",
    "\n",
    "user_activity['cohort_lifetime'] = user_activity['activity_month'] - user_activity['first_activity_month']\n",
    "user_activity['cohort_lifetime'] = user_activity['cohort_lifetime'] / np.timedelta64(1,'M')\n",
    "user_activity['cohort_lifetime'] = user_activity['cohort_lifetime'].astype(int)\n",
    "user_activity.head(3)\n"
   ]
  },
  {
   "cell_type": "code",
   "execution_count": 28,
   "metadata": {},
   "outputs": [],
   "source": [
    "# let's find retention\n",
    "\n",
    "cohorts = user_activity.groupby(['first_activity_month','cohort_lifetime']).agg({'uid':'nunique'}).reset_index()"
   ]
  },
  {
   "cell_type": "code",
   "execution_count": 29,
   "metadata": {},
   "outputs": [],
   "source": [
    "initial_users_count = cohorts[cohorts['cohort_lifetime'] == 0][['first_activity_month','uid']]\n",
    "initial_users_count = initial_users_count.rename(columns={'uid':'cohort_users'})"
   ]
  },
  {
   "cell_type": "code",
   "execution_count": 30,
   "metadata": {},
   "outputs": [
    {
     "data": {
      "text/html": [
       "<div>\n",
       "<style scoped>\n",
       "    .dataframe tbody tr th:only-of-type {\n",
       "        vertical-align: middle;\n",
       "    }\n",
       "\n",
       "    .dataframe tbody tr th {\n",
       "        vertical-align: top;\n",
       "    }\n",
       "\n",
       "    .dataframe thead th {\n",
       "        text-align: right;\n",
       "    }\n",
       "</style>\n",
       "<table border=\"1\" class=\"dataframe\">\n",
       "  <thead>\n",
       "    <tr style=\"text-align: right;\">\n",
       "      <th></th>\n",
       "      <th>first_activity_month</th>\n",
       "      <th>cohort_users</th>\n",
       "    </tr>\n",
       "  </thead>\n",
       "  <tbody>\n",
       "    <tr>\n",
       "      <td>0</td>\n",
       "      <td>2017-06-01</td>\n",
       "      <td>13259</td>\n",
       "    </tr>\n",
       "    <tr>\n",
       "      <td>10</td>\n",
       "      <td>2017-07-01</td>\n",
       "      <td>13140</td>\n",
       "    </tr>\n",
       "    <tr>\n",
       "      <td>19</td>\n",
       "      <td>2017-08-01</td>\n",
       "      <td>10181</td>\n",
       "    </tr>\n",
       "    <tr>\n",
       "      <td>28</td>\n",
       "      <td>2017-09-01</td>\n",
       "      <td>16704</td>\n",
       "    </tr>\n",
       "    <tr>\n",
       "      <td>34</td>\n",
       "      <td>2017-10-01</td>\n",
       "      <td>25977</td>\n",
       "    </tr>\n",
       "    <tr>\n",
       "      <td>41</td>\n",
       "      <td>2017-11-01</td>\n",
       "      <td>27248</td>\n",
       "    </tr>\n",
       "    <tr>\n",
       "      <td>46</td>\n",
       "      <td>2017-12-01</td>\n",
       "      <td>25268</td>\n",
       "    </tr>\n",
       "    <tr>\n",
       "      <td>51</td>\n",
       "      <td>2018-01-01</td>\n",
       "      <td>22624</td>\n",
       "    </tr>\n",
       "    <tr>\n",
       "      <td>55</td>\n",
       "      <td>2018-02-01</td>\n",
       "      <td>22197</td>\n",
       "    </tr>\n",
       "    <tr>\n",
       "      <td>58</td>\n",
       "      <td>2018-03-01</td>\n",
       "      <td>20589</td>\n",
       "    </tr>\n",
       "    <tr>\n",
       "      <td>61</td>\n",
       "      <td>2018-04-01</td>\n",
       "      <td>15709</td>\n",
       "    </tr>\n",
       "    <tr>\n",
       "      <td>62</td>\n",
       "      <td>2018-05-01</td>\n",
       "      <td>15273</td>\n",
       "    </tr>\n",
       "  </tbody>\n",
       "</table>\n",
       "</div>"
      ],
      "text/plain": [
       "   first_activity_month  cohort_users\n",
       "0            2017-06-01         13259\n",
       "10           2017-07-01         13140\n",
       "19           2017-08-01         10181\n",
       "28           2017-09-01         16704\n",
       "34           2017-10-01         25977\n",
       "41           2017-11-01         27248\n",
       "46           2017-12-01         25268\n",
       "51           2018-01-01         22624\n",
       "55           2018-02-01         22197\n",
       "58           2018-03-01         20589\n",
       "61           2018-04-01         15709\n",
       "62           2018-05-01         15273"
      ]
     },
     "execution_count": 30,
     "metadata": {},
     "output_type": "execute_result"
    }
   ],
   "source": [
    "initial_users_count"
   ]
  },
  {
   "cell_type": "code",
   "execution_count": 31,
   "metadata": {},
   "outputs": [
    {
     "data": {
      "text/html": [
       "<div>\n",
       "<style scoped>\n",
       "    .dataframe tbody tr th:only-of-type {\n",
       "        vertical-align: middle;\n",
       "    }\n",
       "\n",
       "    .dataframe tbody tr th {\n",
       "        vertical-align: top;\n",
       "    }\n",
       "\n",
       "    .dataframe thead th {\n",
       "        text-align: right;\n",
       "    }\n",
       "</style>\n",
       "<table border=\"1\" class=\"dataframe\">\n",
       "  <thead>\n",
       "    <tr style=\"text-align: right;\">\n",
       "      <th></th>\n",
       "      <th>first_activity_month</th>\n",
       "      <th>cohort_lifetime</th>\n",
       "      <th>uid</th>\n",
       "      <th>cohort_users</th>\n",
       "      <th>retention</th>\n",
       "    </tr>\n",
       "  </thead>\n",
       "  <tbody>\n",
       "    <tr>\n",
       "      <td>0</td>\n",
       "      <td>2017-06-01</td>\n",
       "      <td>0</td>\n",
       "      <td>13259</td>\n",
       "      <td>13259</td>\n",
       "      <td>1.000000</td>\n",
       "    </tr>\n",
       "    <tr>\n",
       "      <td>1</td>\n",
       "      <td>2017-06-01</td>\n",
       "      <td>2</td>\n",
       "      <td>713</td>\n",
       "      <td>13259</td>\n",
       "      <td>0.053775</td>\n",
       "    </tr>\n",
       "    <tr>\n",
       "      <td>2</td>\n",
       "      <td>2017-06-01</td>\n",
       "      <td>3</td>\n",
       "      <td>814</td>\n",
       "      <td>13259</td>\n",
       "      <td>0.061392</td>\n",
       "    </tr>\n",
       "    <tr>\n",
       "      <td>3</td>\n",
       "      <td>2017-06-01</td>\n",
       "      <td>4</td>\n",
       "      <td>909</td>\n",
       "      <td>13259</td>\n",
       "      <td>0.068557</td>\n",
       "    </tr>\n",
       "    <tr>\n",
       "      <td>4</td>\n",
       "      <td>2017-06-01</td>\n",
       "      <td>5</td>\n",
       "      <td>947</td>\n",
       "      <td>13259</td>\n",
       "      <td>0.071423</td>\n",
       "    </tr>\n",
       "  </tbody>\n",
       "</table>\n",
       "</div>"
      ],
      "text/plain": [
       "  first_activity_month  cohort_lifetime    uid  cohort_users  retention\n",
       "0           2017-06-01                0  13259         13259   1.000000\n",
       "1           2017-06-01                2    713         13259   0.053775\n",
       "2           2017-06-01                3    814         13259   0.061392\n",
       "3           2017-06-01                4    909         13259   0.068557\n",
       "4           2017-06-01                5    947         13259   0.071423"
      ]
     },
     "execution_count": 31,
     "metadata": {},
     "output_type": "execute_result"
    }
   ],
   "source": [
    "cohorts = cohorts.merge(initial_users_count,on='first_activity_month')\n",
    "cohorts['retention'] = cohorts['uid']/cohorts['cohort_users']\n",
    "cohorts.head()\n"
   ]
  },
  {
   "cell_type": "code",
   "execution_count": 32,
   "metadata": {},
   "outputs": [
    {
     "name": "stdout",
     "output_type": "stream",
     "text": [
      "<class 'pandas.core.frame.DataFrame'>\n",
      "Int64Index: 63 entries, 0 to 62\n",
      "Data columns (total 5 columns):\n",
      "first_activity_month    63 non-null datetime64[ns]\n",
      "cohort_lifetime         63 non-null int64\n",
      "uid                     63 non-null int64\n",
      "cohort_users            63 non-null int64\n",
      "retention               63 non-null float64\n",
      "dtypes: datetime64[ns](1), float64(1), int64(3)\n",
      "memory usage: 3.0 KB\n"
     ]
    }
   ],
   "source": [
    "cohorts.info()"
   ]
  },
  {
   "cell_type": "code",
   "execution_count": 33,
   "metadata": {},
   "outputs": [
    {
     "data": {
      "image/png": "[encoded data removed]",
      "text/plain": [
       "<Figure size 936x648 with 2 Axes>"
      ]
     },
     "metadata": {},
     "output_type": "display_data"
    }
   ],
   "source": [
    "# let's plot retention heatmap\n",
    "import matplotlib.colors as mcolors\n",
    "\n",
    "retention_pivot = cohorts.pivot_table(\n",
    "    index='first_activity_month',columns='cohort_lifetime',values='retention',aggfunc='sum')\n",
    "sns.set(style='white')\n",
    "plt.figure(figsize=(13, 9))\n",
    "plt.title('Cohorts: User Retention')\n",
    "sns.heatmap(\n",
    "    retention_pivot, annot=True, fmt='.1%', linewidths=1, linecolor='gray', \n",
    "    cmap = mcolors.LinearSegmentedColormap.from_list(\n",
    "    name='test', \n",
    "    colors=['white','purple','blue','blue','green','yellow','orange','red'])\n",
    ").set_yticklabels(retention_pivot.index.strftime('%Y-%m'))\n",
    "norm = plt.Normalize(-100,100)\n",
    "\n",
    "\n",
    "plt.show()"
   ]
  },
  {
   "cell_type": "markdown",
   "metadata": {},
   "source": [
    "When checking the Retention heatmap of how many users stay loyal to our service we can see that the best result was for users from September'17 cohort who came back the second period (10%) and in January'18 - in the first period (9%)."
   ]
  },
  {
   "cell_type": "markdown",
   "metadata": {},
   "source": [
    "### Part 2: Sales\n",
    "\n",
    "    * When do people start buying? (In KPI analysis, we're usually interested in knowing the time that elapses between registration and conversion — when the user becomes a customer. For example, if registration and the first purchase occur on the same day, the user might fall into category Conversion 0d. If the first purchase happens the next day, it will be Conversion 1d. You can use any approach that lets you compare the conversions of different cohorts, so that you can determine which cohort, or marketing channel, is most effective.)\n",
    "    * How many orders do they make during a given period of time?\n",
    "    * What is the average purchase size?\n",
    "    * How much money do they bring? (LTV)"
   ]
  },
  {
   "cell_type": "markdown",
   "metadata": {},
   "source": [
    "#### 2.1. When do people start buying"
   ]
  },
  {
   "cell_type": "code",
   "execution_count": 34,
   "metadata": {},
   "outputs": [],
   "source": [
    "#Let's check when do people start buying\n",
    "#for each user, let's find date of first order\n",
    "first_order_dates = orders.groupby('uid').agg({'buy_ts':'min'}).reset_index()\n",
    "first_order_dates.columns= ['uid','first_order_date']\n",
    " \n",
    "#for each user, let's find date of first session\n",
    "first_session_dates = visits.groupby('uid').agg({'start_ts':'min'}).reset_index()\n",
    "first_session_dates.columns= ['uid','first_session_date']\n",
    " \n",
    "#let's merge tables on uid\n",
    "conversion = pd.merge(first_session_dates, first_order_dates, on='uid')\n",
    " \n",
    "#let's calculate time between first session and first order\n",
    "conversion['conversion_time_days'] = (conversion['first_order_date'] - conversion['first_session_date']).dt.days\n",
    " \n",
    "avg_conversion_time = conversion['conversion_time_days'].mean()\n",
    "\n",
    "#print(avg_conversion_time)\n",
    "#(conversion['uid']).nunique()/(visits['uid']).nunique()"
   ]
  },
  {
   "cell_type": "code",
   "execution_count": 35,
   "metadata": {},
   "outputs": [],
   "source": [
    "conversion['first_session_month'] = conversion['first_session_date'].astype('datetime64[M]')"
   ]
  },
  {
   "cell_type": "code",
   "execution_count": 36,
   "metadata": {},
   "outputs": [],
   "source": [
    "def conversion_time(row):\n",
    "    conversion_time = row['conversion_time_days']\n",
    "    \n",
    "    if conversion_time == 0:\n",
    "        return '0d'\n",
    "    elif conversion_time <= 7:\n",
    "        return '7d'\n",
    "    elif conversion_time <= 14:\n",
    "        return '14d'\n",
    "    elif conversion_time <= 30:\n",
    "        return '30d'\n",
    "    return '31+d'\n",
    "conversion['conversion_time'] = conversion.apply(conversion_time, axis = 1)\n",
    "#conversion"
   ]
  },
  {
   "cell_type": "code",
   "execution_count": 37,
   "metadata": {
    "scrolled": true
   },
   "outputs": [],
   "source": [
    "#conversion"
   ]
  },
  {
   "cell_type": "code",
   "execution_count": 38,
   "metadata": {},
   "outputs": [],
   "source": [
    "cohorts_conv = conversion.groupby(['first_session_month','conversion_time']).agg({'uid':'nunique'}).reset_index()\n",
    "#cohorts_conv"
   ]
  },
  {
   "cell_type": "code",
   "execution_count": 39,
   "metadata": {},
   "outputs": [
    {
     "data": {
      "image/png": "[encoded data removed]",
      "text/plain": [
       "<Figure size 936x648 with 2 Axes>"
      ]
     },
     "metadata": {},
     "output_type": "display_data"
    }
   ],
   "source": [
    "# let's plot retention heatmap\n",
    "conversion_pivot = cohorts_conv.pivot_table(\n",
    "    index='first_session_month',columns='conversion_time',values='uid',aggfunc='sum')\n",
    "conversion_pivot = conversion_pivot.reindex(['0d','7d', '14d','30d','31+d'], axis=1)\n",
    "\n",
    "sns.set(style='white')\n",
    "plt.figure(figsize=(13, 9))\n",
    "plt.title('Cohorts: User Conversion')\n",
    "sns.heatmap(\n",
    "    conversion_pivot, annot=True, fmt='.1f', linewidths=1, linecolor='gray'\n",
    ").set_yticklabels(conversion_pivot.index.strftime('%Y-%m'))\n",
    "plt.show()"
   ]
  },
  {
   "cell_type": "markdown",
   "metadata": {},
   "source": [
    "While checking convrsion by monthly cohorts - from first session, we can see that the best result was in Oct'17 cohort with 3302 d0 conversions, then was Dec'17 cohort with 2992 d0 conversions. The best within first 7 days was Nov'17 cohort with 415 conversions. The best within first 14 days was Nov'17 cohort with 163 conversions. The best within first 30 days was Nov'17 cohort with 190 conversions. The best within more than 30 days was Jun'17 cohort with 794 conversions. "
   ]
  },
  {
   "cell_type": "markdown",
   "metadata": {},
   "source": [
    "There are 36523 unique users that were converted (from 228169 users (visits)) that is 16%. With the average convertion time of 17 days."
   ]
  },
  {
   "cell_type": "markdown",
   "metadata": {},
   "source": [
    "Now let's find how many users were converted:\n",
    "    - Conversion 0d(%) - the of users whose difference is equal to 0/registrations\n",
    "    - Conversion 7d(%) - the users that converted up till 7th day ( the difference is less or equal to 7)/registrations\n",
    "    - Conversion 14d(%) - the users that converted up till 7th day ( the difference is less or equal to 14)/registrations\n",
    "    - Conversion 30d(%) - the users that converted up till 7th day ( the difference is less or equal to 30)/registrations\n"
   ]
  },
  {
   "cell_type": "code",
   "execution_count": 40,
   "metadata": {},
   "outputs": [
    {
     "name": "stdout",
     "output_type": "stream",
     "text": [
      "Conversion 0d(%) - users who purchased at the registration date:  11 %\n",
      "Conversion 7d(%) - users who purchased up till 7th day 12 %\n",
      "Conversion 14d(%) - users who purchased up till 14th day 13 %\n",
      "Conversion 300d(%) - users who purchased up till 30th day 13 %\n"
     ]
    }
   ],
   "source": [
    "print('Conversion 0d(%) - users who purchased at the registration date: ',\n",
    "      int(conversion.query('conversion_time_days == 0').count()['uid']/(visits['uid']).nunique() *100), '%')\n",
    "print('Conversion 7d(%) - users who purchased up till 7th day',\n",
    "      int(conversion.query('conversion_time_days <= 7').count()['uid']/(visits['uid']).nunique() *100), '%')\n",
    "print('Conversion 14d(%) - users who purchased up till 14th day',\n",
    "      int(conversion.query('conversion_time_days <= 14').count()['uid']/(visits['uid']).nunique() *100), '%')\n",
    "\n",
    "print('Conversion 300d(%) - users who purchased up till 30th day',\n",
    "      int(conversion.query('conversion_time_days <= 30').count()['uid']/(visits['uid']).nunique() *100), '%')"
   ]
  },
  {
   "cell_type": "code",
   "execution_count": 41,
   "metadata": {},
   "outputs": [],
   "source": [
    "orders['visits_year']  = orders['buy_ts'].dt.year\n",
    "orders['visits_month'] = orders['buy_ts'].dt.month\n",
    "orders['visits_week']  = orders['buy_ts'].dt.week\n",
    "orders['visits_date'] = orders['buy_ts'].dt.date\n"
   ]
  },
  {
   "cell_type": "markdown",
   "metadata": {},
   "source": [
    "#### 2.2. How many orders do users make during a given period of time"
   ]
  },
  {
   "cell_type": "code",
   "execution_count": 42,
   "metadata": {},
   "outputs": [
    {
     "data": {
      "text/html": [
       "<div>\n",
       "<style scoped>\n",
       "    .dataframe tbody tr th:only-of-type {\n",
       "        vertical-align: middle;\n",
       "    }\n",
       "\n",
       "    .dataframe tbody tr th {\n",
       "        vertical-align: top;\n",
       "    }\n",
       "\n",
       "    .dataframe thead th {\n",
       "        text-align: right;\n",
       "    }\n",
       "</style>\n",
       "<table border=\"1\" class=\"dataframe\">\n",
       "  <thead>\n",
       "    <tr style=\"text-align: right;\">\n",
       "      <th></th>\n",
       "      <th>source_id</th>\n",
       "      <th>revenue</th>\n",
       "      <th>uid</th>\n",
       "      <th>visits_year_x</th>\n",
       "      <th>visits_month_x</th>\n",
       "      <th>visits_week_x</th>\n",
       "      <th>visits_date</th>\n",
       "    </tr>\n",
       "  </thead>\n",
       "  <tbody>\n",
       "    <tr>\n",
       "      <td>0</td>\n",
       "      <td>1</td>\n",
       "      <td>17.00</td>\n",
       "      <td>10329302124590727494</td>\n",
       "      <td>2017</td>\n",
       "      <td>6</td>\n",
       "      <td>22</td>\n",
       "      <td>2017-06-01</td>\n",
       "    </tr>\n",
       "    <tr>\n",
       "      <td>1</td>\n",
       "      <td>2</td>\n",
       "      <td>0.55</td>\n",
       "      <td>11627257723692907447</td>\n",
       "      <td>2017</td>\n",
       "      <td>6</td>\n",
       "      <td>22</td>\n",
       "      <td>2017-06-01</td>\n",
       "    </tr>\n",
       "    <tr>\n",
       "      <td>2</td>\n",
       "      <td>2</td>\n",
       "      <td>0.37</td>\n",
       "      <td>17903680561304213844</td>\n",
       "      <td>2017</td>\n",
       "      <td>6</td>\n",
       "      <td>22</td>\n",
       "      <td>2017-06-01</td>\n",
       "    </tr>\n",
       "    <tr>\n",
       "      <td>3</td>\n",
       "      <td>2</td>\n",
       "      <td>0.55</td>\n",
       "      <td>16109239769442553005</td>\n",
       "      <td>2017</td>\n",
       "      <td>6</td>\n",
       "      <td>22</td>\n",
       "      <td>2017-06-01</td>\n",
       "    </tr>\n",
       "    <tr>\n",
       "      <td>4</td>\n",
       "      <td>3</td>\n",
       "      <td>0.37</td>\n",
       "      <td>14200605875248379450</td>\n",
       "      <td>2017</td>\n",
       "      <td>6</td>\n",
       "      <td>22</td>\n",
       "      <td>2017-06-01</td>\n",
       "    </tr>\n",
       "    <tr>\n",
       "      <td>...</td>\n",
       "      <td>...</td>\n",
       "      <td>...</td>\n",
       "      <td>...</td>\n",
       "      <td>...</td>\n",
       "      <td>...</td>\n",
       "      <td>...</td>\n",
       "      <td>...</td>\n",
       "    </tr>\n",
       "    <tr>\n",
       "      <td>55022</td>\n",
       "      <td>4</td>\n",
       "      <td>0.92</td>\n",
       "      <td>15854392578508828030</td>\n",
       "      <td>2018</td>\n",
       "      <td>5</td>\n",
       "      <td>22</td>\n",
       "      <td>2018-05-31</td>\n",
       "    </tr>\n",
       "    <tr>\n",
       "      <td>55023</td>\n",
       "      <td>2</td>\n",
       "      <td>3.67</td>\n",
       "      <td>1805512004303848280</td>\n",
       "      <td>2018</td>\n",
       "      <td>5</td>\n",
       "      <td>22</td>\n",
       "      <td>2018-05-31</td>\n",
       "    </tr>\n",
       "    <tr>\n",
       "      <td>55024</td>\n",
       "      <td>4</td>\n",
       "      <td>4.64</td>\n",
       "      <td>12296626599487328624</td>\n",
       "      <td>2018</td>\n",
       "      <td>5</td>\n",
       "      <td>22</td>\n",
       "      <td>2018-05-31</td>\n",
       "    </tr>\n",
       "    <tr>\n",
       "      <td>55026</td>\n",
       "      <td>10</td>\n",
       "      <td>5.80</td>\n",
       "      <td>11369640365507475976</td>\n",
       "      <td>2018</td>\n",
       "      <td>5</td>\n",
       "      <td>22</td>\n",
       "      <td>2018-05-31</td>\n",
       "    </tr>\n",
       "    <tr>\n",
       "      <td>55027</td>\n",
       "      <td>3</td>\n",
       "      <td>0.30</td>\n",
       "      <td>1786462140797698849</td>\n",
       "      <td>2018</td>\n",
       "      <td>5</td>\n",
       "      <td>22</td>\n",
       "      <td>2018-05-31</td>\n",
       "    </tr>\n",
       "  </tbody>\n",
       "</table>\n",
       "<p>46324 rows × 7 columns</p>\n",
       "</div>"
      ],
      "text/plain": [
       "       source_id  revenue                   uid  visits_year_x  \\\n",
       "0              1    17.00  10329302124590727494           2017   \n",
       "1              2     0.55  11627257723692907447           2017   \n",
       "2              2     0.37  17903680561304213844           2017   \n",
       "3              2     0.55  16109239769442553005           2017   \n",
       "4              3     0.37  14200605875248379450           2017   \n",
       "...          ...      ...                   ...            ...   \n",
       "55022          4     0.92  15854392578508828030           2018   \n",
       "55023          2     3.67   1805512004303848280           2018   \n",
       "55024          4     4.64  12296626599487328624           2018   \n",
       "55026         10     5.80  11369640365507475976           2018   \n",
       "55027          3     0.30   1786462140797698849           2018   \n",
       "\n",
       "       visits_month_x  visits_week_x visits_date  \n",
       "0                   6             22  2017-06-01  \n",
       "1                   6             22  2017-06-01  \n",
       "2                   6             22  2017-06-01  \n",
       "3                   6             22  2017-06-01  \n",
       "4                   6             22  2017-06-01  \n",
       "...               ...            ...         ...  \n",
       "55022               5             22  2018-05-31  \n",
       "55023               5             22  2018-05-31  \n",
       "55024               5             22  2018-05-31  \n",
       "55026               5             22  2018-05-31  \n",
       "55027               5             22  2018-05-31  \n",
       "\n",
       "[46324 rows x 7 columns]"
      ]
     },
     "execution_count": 42,
     "metadata": {},
     "output_type": "execute_result"
    }
   ],
   "source": [
    "#Now let's find  how many orders do users make during a given period of time\n",
    "\n",
    "orders_stat = orders.merge(visits, on=['visits_date', 'uid']).drop_duplicates().fillna(0)\n",
    "orders_stat = orders_stat[['source_id','revenue','uid','visits_year_x','visits_month_x','visits_week_x','visits_date']]\n",
    "orders_stat.drop_duplicates()"
   ]
  },
  {
   "cell_type": "code",
   "execution_count": 43,
   "metadata": {},
   "outputs": [],
   "source": [
    "orders_stat = orders_stat.query('revenue > 0')"
   ]
  },
  {
   "cell_type": "code",
   "execution_count": 44,
   "metadata": {
    "scrolled": true
   },
   "outputs": [],
   "source": [
    "#orders_stat"
   ]
  },
  {
   "cell_type": "code",
   "execution_count": 45,
   "metadata": {},
   "outputs": [],
   "source": [
    "orders_stat2 = orders_stat[['uid','visits_date']].groupby(['visits_date']).count().reset_index()\n",
    "\n"
   ]
  },
  {
   "cell_type": "code",
   "execution_count": 46,
   "metadata": {},
   "outputs": [
    {
     "data": {
      "image/png": "[encoded data removed]",
      "text/plain": [
       "<Figure size 1224x360 with 1 Axes>"
      ]
     },
     "metadata": {},
     "output_type": "display_data"
    }
   ],
   "source": [
    "plt.figure(figsize=(17,5))\n",
    "plt.title('Orders per Day')\n",
    "sns.set_style(\"darkgrid\")\n",
    "sns.lineplot(data=orders_stat2, x=\"visits_date\",y=\"uid\", legend=\"full\", palette=\"Set1\")\n",
    "# Using a variable to manage how above/below text should appear\n",
    "slider = 10\n",
    "for i in range(orders_stat2.shape[0]):\n",
    "    if orders_stat2['uid'].iloc[i] > 410 :\n",
    "        plt.text(orders_stat2.visits_date.iloc[i], \n",
    "                 orders_stat2['uid'].iloc[i] + slider,  \n",
    "                 orders_stat2['visits_date'].iloc[i])\n",
    "plt.show()"
   ]
  },
  {
   "cell_type": "markdown",
   "metadata": {},
   "source": [
    "We can see that top 3 orders days were with more than 1200 orders were done on 24/11/2017; 721 on 31/05/2018 and 428 on 10/06/2017. From September 2017 to April we can see stable fluctuations mainly between 200 and 400 dayly orders except the spike that was mentioned."
   ]
  },
  {
   "cell_type": "code",
   "execution_count": 47,
   "metadata": {},
   "outputs": [
    {
     "data": {
      "text/html": [
       "<div>\n",
       "<style scoped>\n",
       "    .dataframe tbody tr th:only-of-type {\n",
       "        vertical-align: middle;\n",
       "    }\n",
       "\n",
       "    .dataframe tbody tr th {\n",
       "        vertical-align: top;\n",
       "    }\n",
       "\n",
       "    .dataframe thead th {\n",
       "        text-align: right;\n",
       "    }\n",
       "</style>\n",
       "<table border=\"1\" class=\"dataframe\">\n",
       "  <thead>\n",
       "    <tr style=\"text-align: right;\">\n",
       "      <th></th>\n",
       "      <th>visits_date</th>\n",
       "      <th>uid</th>\n",
       "    </tr>\n",
       "  </thead>\n",
       "  <tbody>\n",
       "    <tr>\n",
       "      <td>176</td>\n",
       "      <td>2017-11-24</td>\n",
       "      <td>1257</td>\n",
       "    </tr>\n",
       "    <tr>\n",
       "      <td>362</td>\n",
       "      <td>2018-05-31</td>\n",
       "      <td>721</td>\n",
       "    </tr>\n",
       "    <tr>\n",
       "      <td>127</td>\n",
       "      <td>2017-10-06</td>\n",
       "      <td>428</td>\n",
       "    </tr>\n",
       "  </tbody>\n",
       "</table>\n",
       "</div>"
      ],
      "text/plain": [
       "    visits_date   uid\n",
       "176  2017-11-24  1257\n",
       "362  2018-05-31   721\n",
       "127  2017-10-06   428"
      ]
     },
     "execution_count": 47,
     "metadata": {},
     "output_type": "execute_result"
    }
   ],
   "source": [
    "orders_stat2.sort_values(by = 'uid', ascending = False).head(3)"
   ]
  },
  {
   "cell_type": "markdown",
   "metadata": {},
   "source": [
    "#### 2.3. What is the average purchase size"
   ]
  },
  {
   "cell_type": "code",
   "execution_count": 48,
   "metadata": {},
   "outputs": [
    {
     "name": "stdout",
     "output_type": "stream",
     "text": [
      "    visits_date    revenue\n",
      "13   2017-06-14  27.857213\n",
      "112  2017-09-21  26.783586\n",
      "192  2017-12-10  28.698631\n"
     ]
    }
   ],
   "source": [
    "#Let's see what is the average purchase size\n",
    "\n",
    "orders_stat3 = orders_stat[['revenue','visits_date']].groupby(['visits_date']).mean().reset_index()\n",
    "print(orders_stat3.query('revenue > 20'))"
   ]
  },
  {
   "cell_type": "code",
   "execution_count": 49,
   "metadata": {},
   "outputs": [
    {
     "data": {
      "image/png": "[encoded data removed]",
      "text/plain": [
       "<Figure size 1224x360 with 1 Axes>"
      ]
     },
     "metadata": {},
     "output_type": "display_data"
    }
   ],
   "source": [
    "plt.figure(figsize=(17,5))\n",
    "plt.title('Average Purchase Size per Day')\n",
    "sns.lineplot(data=orders_stat3, x=\"visits_date\",y=\"revenue\", legend=\"full\", palette=\"Set1\")\n",
    "# Using a variable to manage how above/below text should appear\n",
    "slider = 1\n",
    "for i in range(orders_stat2.shape[0]):\n",
    "    if orders_stat3['revenue'].iloc[i] > 20:\n",
    "        plt.text(orders_stat3.visits_date.iloc[i], \n",
    "                 orders_stat3['revenue'].iloc[i] + slider,  \n",
    "                 orders_stat3['visits_date'].iloc[i])\n",
    "plt.show()"
   ]
  },
  {
   "cell_type": "markdown",
   "metadata": {},
   "source": [
    "Regarding average purchase size per day, the top 3 of them brought 28, 27 and 29 on 14/06/2017, 21/09/2017, 10/12/2017 accordingly."
   ]
  },
  {
   "cell_type": "markdown",
   "metadata": {},
   "source": [
    "#### 2.4. How much money do they bring (LTV)"
   ]
  },
  {
   "cell_type": "code",
   "execution_count": 50,
   "metadata": {},
   "outputs": [],
   "source": [
    "#to find LTV, let's check cohorts based on their first visit and then check their life time value\n",
    "order_dates_rev = orders.groupby(['uid', 'visits_date']).agg({'buy_ts':'min', 'revenue':'sum'}).reset_index().rename(columns={'buy_ts':'first_order_date'})\n",
    "#order_dates_rev"
   ]
  },
  {
   "cell_type": "code",
   "execution_count": 51,
   "metadata": {},
   "outputs": [],
   "source": [
    "ltv1 = pd.merge(conversion,order_dates_rev, on=['uid'])\n",
    "ltv1['first_order_month'] = ltv1['first_order_date_x'].astype('datetime64[M]')\n",
    "ltv1['order_month'] = ltv1['visits_date'].astype('datetime64[M]')\n",
    "#ltv1"
   ]
  },
  {
   "cell_type": "code",
   "execution_count": 52,
   "metadata": {},
   "outputs": [],
   "source": [
    "ltv1['age'] = (ltv1['order_month'] - ltv1['first_order_month']) / np.timedelta64(1, 'M')\n",
    "ltv1['age'] = ltv1['age'].round().astype('int')\n",
    "#ltv1"
   ]
  },
  {
   "cell_type": "code",
   "execution_count": 53,
   "metadata": {},
   "outputs": [],
   "source": [
    "ltv = ltv1.groupby(['first_order_month', 'age']).agg({'uid':'nunique', 'revenue':'sum'}).reset_index()\n",
    "ltv['ltv'] = ltv['revenue'] / ltv['uid']\n",
    "#ltv"
   ]
  },
  {
   "cell_type": "code",
   "execution_count": 54,
   "metadata": {},
   "outputs": [
    {
     "data": {
      "text/html": [
       "<div>\n",
       "<style scoped>\n",
       "    .dataframe tbody tr th:only-of-type {\n",
       "        vertical-align: middle;\n",
       "    }\n",
       "\n",
       "    .dataframe tbody tr th {\n",
       "        vertical-align: top;\n",
       "    }\n",
       "\n",
       "    .dataframe thead th {\n",
       "        text-align: right;\n",
       "    }\n",
       "</style>\n",
       "<table border=\"1\" class=\"dataframe\">\n",
       "  <thead>\n",
       "    <tr style=\"text-align: right;\">\n",
       "      <th>age</th>\n",
       "      <th>0</th>\n",
       "      <th>1</th>\n",
       "      <th>2</th>\n",
       "      <th>3</th>\n",
       "      <th>4</th>\n",
       "      <th>5</th>\n",
       "      <th>6</th>\n",
       "      <th>7</th>\n",
       "      <th>8</th>\n",
       "      <th>9</th>\n",
       "      <th>10</th>\n",
       "      <th>11</th>\n",
       "    </tr>\n",
       "    <tr>\n",
       "      <th>first_order_month</th>\n",
       "      <th></th>\n",
       "      <th></th>\n",
       "      <th></th>\n",
       "      <th></th>\n",
       "      <th></th>\n",
       "      <th></th>\n",
       "      <th></th>\n",
       "      <th></th>\n",
       "      <th></th>\n",
       "      <th></th>\n",
       "      <th></th>\n",
       "      <th></th>\n",
       "    </tr>\n",
       "  </thead>\n",
       "  <tbody>\n",
       "    <tr>\n",
       "      <td>2017-06-01</td>\n",
       "      <td>5.0</td>\n",
       "      <td>16.0</td>\n",
       "      <td>18.0</td>\n",
       "      <td>36.0</td>\n",
       "      <td>24.0</td>\n",
       "      <td>22.0</td>\n",
       "      <td>31.0</td>\n",
       "      <td>25.0</td>\n",
       "      <td>19.0</td>\n",
       "      <td>27.0</td>\n",
       "      <td>26.0</td>\n",
       "      <td>10.0</td>\n",
       "    </tr>\n",
       "    <tr>\n",
       "      <td>2017-07-01</td>\n",
       "      <td>6.0</td>\n",
       "      <td>12.0</td>\n",
       "      <td>21.0</td>\n",
       "      <td>11.0</td>\n",
       "      <td>7.0</td>\n",
       "      <td>8.0</td>\n",
       "      <td>6.0</td>\n",
       "      <td>7.0</td>\n",
       "      <td>7.0</td>\n",
       "      <td>13.0</td>\n",
       "      <td>12.0</td>\n",
       "      <td>NaN</td>\n",
       "    </tr>\n",
       "    <tr>\n",
       "      <td>2017-08-01</td>\n",
       "      <td>5.0</td>\n",
       "      <td>11.0</td>\n",
       "      <td>12.0</td>\n",
       "      <td>12.0</td>\n",
       "      <td>17.0</td>\n",
       "      <td>12.0</td>\n",
       "      <td>10.0</td>\n",
       "      <td>13.0</td>\n",
       "      <td>21.0</td>\n",
       "      <td>8.0</td>\n",
       "      <td>NaN</td>\n",
       "      <td>NaN</td>\n",
       "    </tr>\n",
       "    <tr>\n",
       "      <td>2017-09-01</td>\n",
       "      <td>6.0</td>\n",
       "      <td>22.0</td>\n",
       "      <td>13.0</td>\n",
       "      <td>139.0</td>\n",
       "      <td>20.0</td>\n",
       "      <td>26.0</td>\n",
       "      <td>27.0</td>\n",
       "      <td>17.0</td>\n",
       "      <td>11.0</td>\n",
       "      <td>NaN</td>\n",
       "      <td>NaN</td>\n",
       "      <td>NaN</td>\n",
       "    </tr>\n",
       "    <tr>\n",
       "      <td>2017-10-01</td>\n",
       "      <td>5.0</td>\n",
       "      <td>11.0</td>\n",
       "      <td>7.0</td>\n",
       "      <td>7.0</td>\n",
       "      <td>7.0</td>\n",
       "      <td>7.0</td>\n",
       "      <td>7.0</td>\n",
       "      <td>7.0</td>\n",
       "      <td>NaN</td>\n",
       "      <td>NaN</td>\n",
       "      <td>NaN</td>\n",
       "      <td>NaN</td>\n",
       "    </tr>\n",
       "    <tr>\n",
       "      <td>2017-11-01</td>\n",
       "      <td>5.0</td>\n",
       "      <td>7.0</td>\n",
       "      <td>7.0</td>\n",
       "      <td>13.0</td>\n",
       "      <td>7.0</td>\n",
       "      <td>5.0</td>\n",
       "      <td>8.0</td>\n",
       "      <td>NaN</td>\n",
       "      <td>NaN</td>\n",
       "      <td>NaN</td>\n",
       "      <td>NaN</td>\n",
       "      <td>NaN</td>\n",
       "    </tr>\n",
       "    <tr>\n",
       "      <td>2017-12-01</td>\n",
       "      <td>5.0</td>\n",
       "      <td>8.0</td>\n",
       "      <td>39.0</td>\n",
       "      <td>48.0</td>\n",
       "      <td>27.0</td>\n",
       "      <td>24.0</td>\n",
       "      <td>NaN</td>\n",
       "      <td>NaN</td>\n",
       "      <td>NaN</td>\n",
       "      <td>NaN</td>\n",
       "      <td>NaN</td>\n",
       "      <td>NaN</td>\n",
       "    </tr>\n",
       "    <tr>\n",
       "      <td>2018-01-01</td>\n",
       "      <td>4.0</td>\n",
       "      <td>9.0</td>\n",
       "      <td>12.0</td>\n",
       "      <td>11.0</td>\n",
       "      <td>5.0</td>\n",
       "      <td>NaN</td>\n",
       "      <td>NaN</td>\n",
       "      <td>NaN</td>\n",
       "      <td>NaN</td>\n",
       "      <td>NaN</td>\n",
       "      <td>NaN</td>\n",
       "      <td>NaN</td>\n",
       "    </tr>\n",
       "    <tr>\n",
       "      <td>2018-02-01</td>\n",
       "      <td>4.0</td>\n",
       "      <td>9.0</td>\n",
       "      <td>5.0</td>\n",
       "      <td>7.0</td>\n",
       "      <td>NaN</td>\n",
       "      <td>NaN</td>\n",
       "      <td>NaN</td>\n",
       "      <td>NaN</td>\n",
       "      <td>NaN</td>\n",
       "      <td>NaN</td>\n",
       "      <td>NaN</td>\n",
       "      <td>NaN</td>\n",
       "    </tr>\n",
       "    <tr>\n",
       "      <td>2018-03-01</td>\n",
       "      <td>5.0</td>\n",
       "      <td>12.0</td>\n",
       "      <td>19.0</td>\n",
       "      <td>NaN</td>\n",
       "      <td>NaN</td>\n",
       "      <td>NaN</td>\n",
       "      <td>NaN</td>\n",
       "      <td>NaN</td>\n",
       "      <td>NaN</td>\n",
       "      <td>NaN</td>\n",
       "      <td>NaN</td>\n",
       "      <td>NaN</td>\n",
       "    </tr>\n",
       "    <tr>\n",
       "      <td>2018-04-01</td>\n",
       "      <td>5.0</td>\n",
       "      <td>18.0</td>\n",
       "      <td>NaN</td>\n",
       "      <td>NaN</td>\n",
       "      <td>NaN</td>\n",
       "      <td>NaN</td>\n",
       "      <td>NaN</td>\n",
       "      <td>NaN</td>\n",
       "      <td>NaN</td>\n",
       "      <td>NaN</td>\n",
       "      <td>NaN</td>\n",
       "      <td>NaN</td>\n",
       "    </tr>\n",
       "    <tr>\n",
       "      <td>2018-05-01</td>\n",
       "      <td>5.0</td>\n",
       "      <td>NaN</td>\n",
       "      <td>NaN</td>\n",
       "      <td>NaN</td>\n",
       "      <td>NaN</td>\n",
       "      <td>NaN</td>\n",
       "      <td>NaN</td>\n",
       "      <td>NaN</td>\n",
       "      <td>NaN</td>\n",
       "      <td>NaN</td>\n",
       "      <td>NaN</td>\n",
       "      <td>NaN</td>\n",
       "    </tr>\n",
       "    <tr>\n",
       "      <td>2018-06-01</td>\n",
       "      <td>3.0</td>\n",
       "      <td>NaN</td>\n",
       "      <td>NaN</td>\n",
       "      <td>NaN</td>\n",
       "      <td>NaN</td>\n",
       "      <td>NaN</td>\n",
       "      <td>NaN</td>\n",
       "      <td>NaN</td>\n",
       "      <td>NaN</td>\n",
       "      <td>NaN</td>\n",
       "      <td>NaN</td>\n",
       "      <td>NaN</td>\n",
       "    </tr>\n",
       "  </tbody>\n",
       "</table>\n",
       "</div>"
      ],
      "text/plain": [
       "age                 0     1     2      3     4     5     6     7     8     9   \\\n",
       "first_order_month                                                               \n",
       "2017-06-01         5.0  16.0  18.0   36.0  24.0  22.0  31.0  25.0  19.0  27.0   \n",
       "2017-07-01         6.0  12.0  21.0   11.0   7.0   8.0   6.0   7.0   7.0  13.0   \n",
       "2017-08-01         5.0  11.0  12.0   12.0  17.0  12.0  10.0  13.0  21.0   8.0   \n",
       "2017-09-01         6.0  22.0  13.0  139.0  20.0  26.0  27.0  17.0  11.0   NaN   \n",
       "2017-10-01         5.0  11.0   7.0    7.0   7.0   7.0   7.0   7.0   NaN   NaN   \n",
       "2017-11-01         5.0   7.0   7.0   13.0   7.0   5.0   8.0   NaN   NaN   NaN   \n",
       "2017-12-01         5.0   8.0  39.0   48.0  27.0  24.0   NaN   NaN   NaN   NaN   \n",
       "2018-01-01         4.0   9.0  12.0   11.0   5.0   NaN   NaN   NaN   NaN   NaN   \n",
       "2018-02-01         4.0   9.0   5.0    7.0   NaN   NaN   NaN   NaN   NaN   NaN   \n",
       "2018-03-01         5.0  12.0  19.0    NaN   NaN   NaN   NaN   NaN   NaN   NaN   \n",
       "2018-04-01         5.0  18.0   NaN    NaN   NaN   NaN   NaN   NaN   NaN   NaN   \n",
       "2018-05-01         5.0   NaN   NaN    NaN   NaN   NaN   NaN   NaN   NaN   NaN   \n",
       "2018-06-01         3.0   NaN   NaN    NaN   NaN   NaN   NaN   NaN   NaN   NaN   \n",
       "\n",
       "age                  10    11  \n",
       "first_order_month              \n",
       "2017-06-01         26.0  10.0  \n",
       "2017-07-01         12.0   NaN  \n",
       "2017-08-01          NaN   NaN  \n",
       "2017-09-01          NaN   NaN  \n",
       "2017-10-01          NaN   NaN  \n",
       "2017-11-01          NaN   NaN  \n",
       "2017-12-01          NaN   NaN  \n",
       "2018-01-01          NaN   NaN  \n",
       "2018-02-01          NaN   NaN  \n",
       "2018-03-01          NaN   NaN  \n",
       "2018-04-01          NaN   NaN  \n",
       "2018-05-01          NaN   NaN  \n",
       "2018-06-01          NaN   NaN  "
      ]
     },
     "execution_count": 54,
     "metadata": {},
     "output_type": "execute_result"
    }
   ],
   "source": [
    "# let's calculate values for the pivot table\n",
    "ltv_pivot = ltv.pivot_table(\n",
    "    index='first_order_month', \n",
    "    columns='age', \n",
    "    values='ltv', \n",
    "    aggfunc='mean').round()\n",
    "ltv_pivot.fillna('')\n",
    "\n",
    "ltv_pivot"
   ]
  },
  {
   "cell_type": "code",
   "execution_count": 55,
   "metadata": {},
   "outputs": [
    {
     "data": {
      "image/png": "[encoded data removed]",
      "text/plain": [
       "<Figure size 936x648 with 2 Axes>"
      ]
     },
     "metadata": {},
     "output_type": "display_data"
    }
   ],
   "source": [
    "# let's plot LTV heatmap\n",
    "sns.set(style='white')\n",
    "plt.figure(figsize=(13, 9))\n",
    "plt.title('Cohorts: Life Time Value')\n",
    "sns.heatmap(\n",
    "    ltv_pivot, annot=True, fmt='.1f', linewidths=1, linecolor='gray'\n",
    ").set_yticklabels(ltv_pivot.index.strftime('%Y-%m'))\n",
    "plt.show()"
   ]
  },
  {
   "cell_type": "markdown",
   "metadata": {},
   "source": [
    "While checking average life time value for our users based on their first order and every month following their first order, we found that the most profitable was Sep'17 cohort that brought on its 4th term on average value equels to '139'; next one also on the 4th term was the Dec'17 cohort with '48' as an average life time value. In average 1st cohort brought '259' during its 12 terms. It is still less than Sep'17 cohort with average life time value of '281'."
   ]
  },
  {
   "cell_type": "code",
   "execution_count": 56,
   "metadata": {},
   "outputs": [],
   "source": [
    "#let's find how much buying users bring per month\n",
    "cohorts = orders[['revenue','visits_month']].groupby(['visits_month']).sum().reset_index()"
   ]
  },
  {
   "cell_type": "code",
   "execution_count": 57,
   "metadata": {},
   "outputs": [],
   "source": [
    "#let's find number of buying users \n",
    "cohorts_size = orders_stat.groupby('visits_month_x').agg({'uid': 'nunique'}).reset_index()\n"
   ]
  },
  {
   "cell_type": "code",
   "execution_count": 58,
   "metadata": {},
   "outputs": [],
   "source": [
    "cohorts_size.columns = ['order_month', 'n_buyers']\n",
    "cohorts.columns = ['order_month', 'revenues']"
   ]
  },
  {
   "cell_type": "code",
   "execution_count": 59,
   "metadata": {},
   "outputs": [
    {
     "data": {
      "text/html": [
       "<div>\n",
       "<style scoped>\n",
       "    .dataframe tbody tr th:only-of-type {\n",
       "        vertical-align: middle;\n",
       "    }\n",
       "\n",
       "    .dataframe tbody tr th {\n",
       "        vertical-align: top;\n",
       "    }\n",
       "\n",
       "    .dataframe thead th {\n",
       "        text-align: right;\n",
       "    }\n",
       "</style>\n",
       "<table border=\"1\" class=\"dataframe\">\n",
       "  <thead>\n",
       "    <tr style=\"text-align: right;\">\n",
       "      <th></th>\n",
       "      <th>order_month</th>\n",
       "      <th>ltv</th>\n",
       "    </tr>\n",
       "  </thead>\n",
       "  <tbody>\n",
       "    <tr>\n",
       "      <td>0</td>\n",
       "      <td>1</td>\n",
       "      <td>6.01</td>\n",
       "    </tr>\n",
       "    <tr>\n",
       "      <td>1</td>\n",
       "      <td>2</td>\n",
       "      <td>7.23</td>\n",
       "    </tr>\n",
       "    <tr>\n",
       "      <td>2</td>\n",
       "      <td>3</td>\n",
       "      <td>8.41</td>\n",
       "    </tr>\n",
       "    <tr>\n",
       "      <td>3</td>\n",
       "      <td>4</td>\n",
       "      <td>7.55</td>\n",
       "    </tr>\n",
       "    <tr>\n",
       "      <td>4</td>\n",
       "      <td>5</td>\n",
       "      <td>7.05</td>\n",
       "    </tr>\n",
       "    <tr>\n",
       "      <td>5</td>\n",
       "      <td>6</td>\n",
       "      <td>5.01</td>\n",
       "    </tr>\n",
       "    <tr>\n",
       "      <td>6</td>\n",
       "      <td>7</td>\n",
       "      <td>7.00</td>\n",
       "    </tr>\n",
       "    <tr>\n",
       "      <td>7</td>\n",
       "      <td>8</td>\n",
       "      <td>6.78</td>\n",
       "    </tr>\n",
       "    <tr>\n",
       "      <td>8</td>\n",
       "      <td>9</td>\n",
       "      <td>7.70</td>\n",
       "    </tr>\n",
       "    <tr>\n",
       "      <td>9</td>\n",
       "      <td>10</td>\n",
       "      <td>6.86</td>\n",
       "    </tr>\n",
       "    <tr>\n",
       "      <td>10</td>\n",
       "      <td>11</td>\n",
       "      <td>6.99</td>\n",
       "    </tr>\n",
       "    <tr>\n",
       "      <td>11</td>\n",
       "      <td>12</td>\n",
       "      <td>8.73</td>\n",
       "    </tr>\n",
       "  </tbody>\n",
       "</table>\n",
       "</div>"
      ],
      "text/plain": [
       "    order_month   ltv\n",
       "0             1  6.01\n",
       "1             2  7.23\n",
       "2             3  8.41\n",
       "3             4  7.55\n",
       "4             5  7.05\n",
       "5             6  5.01\n",
       "6             7  7.00\n",
       "7             8  6.78\n",
       "8             9  7.70\n",
       "9            10  6.86\n",
       "10           11  6.99\n",
       "11           12  8.73"
      ]
     },
     "execution_count": 59,
     "metadata": {},
     "output_type": "execute_result"
    }
   ],
   "source": [
    "#let's find LTV \n",
    "\n",
    "report = pd.merge(cohorts_size, cohorts, on='order_month')\n",
    "\n",
    "report['ltv'] = report['revenues'] / report['n_buyers']\n",
    "\n",
    "result = report.pivot_table(\n",
    "    index='order_month',  \n",
    "    values='ltv', \n",
    "    aggfunc='mean').round(2).reset_index()\n",
    "\n",
    "result.fillna('')"
   ]
  },
  {
   "cell_type": "code",
   "execution_count": 60,
   "metadata": {},
   "outputs": [
    {
     "data": {
      "text/html": [
       "<div>\n",
       "<style scoped>\n",
       "    .dataframe tbody tr th:only-of-type {\n",
       "        vertical-align: middle;\n",
       "    }\n",
       "\n",
       "    .dataframe tbody tr th {\n",
       "        vertical-align: top;\n",
       "    }\n",
       "\n",
       "    .dataframe thead th {\n",
       "        text-align: right;\n",
       "    }\n",
       "</style>\n",
       "<table border=\"1\" class=\"dataframe\">\n",
       "  <thead>\n",
       "    <tr style=\"text-align: right;\">\n",
       "      <th></th>\n",
       "      <th>order_month</th>\n",
       "      <th>n_buyers</th>\n",
       "      <th>revenues</th>\n",
       "      <th>ltv</th>\n",
       "    </tr>\n",
       "  </thead>\n",
       "  <tbody>\n",
       "    <tr>\n",
       "      <td>7</td>\n",
       "      <td>8</td>\n",
       "      <td>1291</td>\n",
       "      <td>8758.78</td>\n",
       "      <td>6.784493</td>\n",
       "    </tr>\n",
       "    <tr>\n",
       "      <td>0</td>\n",
       "      <td>1</td>\n",
       "      <td>3232</td>\n",
       "      <td>19417.13</td>\n",
       "      <td>6.007775</td>\n",
       "    </tr>\n",
       "    <tr>\n",
       "      <td>5</td>\n",
       "      <td>6</td>\n",
       "      <td>1909</td>\n",
       "      <td>9560.91</td>\n",
       "      <td>5.008334</td>\n",
       "    </tr>\n",
       "  </tbody>\n",
       "</table>\n",
       "</div>"
      ],
      "text/plain": [
       "   order_month  n_buyers  revenues       ltv\n",
       "7            8      1291   8758.78  6.784493\n",
       "0            1      3232  19417.13  6.007775\n",
       "5            6      1909   9560.91  5.008334"
      ]
     },
     "execution_count": 60,
     "metadata": {},
     "output_type": "execute_result"
    }
   ],
   "source": [
    "#report\n",
    "report.sort_values('ltv', ascending=[False]).tail(3)"
   ]
  },
  {
   "cell_type": "code",
   "execution_count": 61,
   "metadata": {},
   "outputs": [
    {
     "data": {
      "text/html": [
       "<div>\n",
       "<style scoped>\n",
       "    .dataframe tbody tr th:only-of-type {\n",
       "        vertical-align: middle;\n",
       "    }\n",
       "\n",
       "    .dataframe tbody tr th {\n",
       "        vertical-align: top;\n",
       "    }\n",
       "\n",
       "    .dataframe thead th {\n",
       "        text-align: right;\n",
       "    }\n",
       "</style>\n",
       "<table border=\"1\" class=\"dataframe\">\n",
       "  <thead>\n",
       "    <tr style=\"text-align: right;\">\n",
       "      <th></th>\n",
       "      <th>order_month</th>\n",
       "      <th>n_buyers</th>\n",
       "      <th>revenues</th>\n",
       "      <th>ltv</th>\n",
       "    </tr>\n",
       "  </thead>\n",
       "  <tbody>\n",
       "    <tr>\n",
       "      <td>11</td>\n",
       "      <td>12</td>\n",
       "      <td>4167</td>\n",
       "      <td>36388.60</td>\n",
       "      <td>8.732565</td>\n",
       "    </tr>\n",
       "    <tr>\n",
       "      <td>2</td>\n",
       "      <td>3</td>\n",
       "      <td>3429</td>\n",
       "      <td>28834.59</td>\n",
       "      <td>8.409038</td>\n",
       "    </tr>\n",
       "    <tr>\n",
       "      <td>8</td>\n",
       "      <td>9</td>\n",
       "      <td>2384</td>\n",
       "      <td>18345.51</td>\n",
       "      <td>7.695264</td>\n",
       "    </tr>\n",
       "  </tbody>\n",
       "</table>\n",
       "</div>"
      ],
      "text/plain": [
       "    order_month  n_buyers  revenues       ltv\n",
       "11           12      4167  36388.60  8.732565\n",
       "2             3      3429  28834.59  8.409038\n",
       "8             9      2384  18345.51  7.695264"
      ]
     },
     "execution_count": 61,
     "metadata": {},
     "output_type": "execute_result"
    }
   ],
   "source": [
    "report.sort_values('ltv', ascending=[False]).head(3)"
   ]
  },
  {
   "cell_type": "code",
   "execution_count": 62,
   "metadata": {},
   "outputs": [
    {
     "data": {
      "image/png": "[encoded data removed]",
      "text/plain": [
       "<Figure size 1080x216 with 1 Axes>"
      ]
     },
     "metadata": {},
     "output_type": "display_data"
    }
   ],
   "source": [
    "# let's plot chart for LTV per month \n",
    "\n",
    "fig,ax=plt.subplots(figsize=(15,3))\n",
    "ax.vlines(x=report.order_month, ymin=0, ymax=report.ltv, color='red', alpha=0.7,linewidth=2)\n",
    "ax.set_title('Chart for average LTV per Month', fontdict={'size':15})\n",
    "ax.set_ylabel('Average LTV')\n",
    "ax.set_xticks(report.order_month)\n",
    "ax.scatter(x=report.order_month, y=report.ltv, s=75, color='orange', alpha=0.7)\n",
    "for row in report.itertuples():\n",
    "    ax.text(row.order_month, row.ltv, s=round(row.ltv, 2))"
   ]
  },
  {
   "cell_type": "markdown",
   "metadata": {},
   "source": [
    "The max average LTV was brought on December'17 (8.7), March'18 (8.4) and September'17 (7.7) and min average LTV was in June'17 (5), January'18 (6), August'17 (6.7). "
   ]
  },
  {
   "cell_type": "markdown",
   "metadata": {},
   "source": [
    "### Part 3: Marketing\n",
    "    * \t\tHow much money was spent? Overall/per source/over time\n",
    "    * \t\tHow much did customer acquisition from each of the sources cost?\n",
    "    * \t\tHow worthwhile where the investments? (ROI)"
   ]
  },
  {
   "cell_type": "markdown",
   "metadata": {},
   "source": [
    "#### 3.1. How much money was spent: Overall/per source/over time"
   ]
  },
  {
   "cell_type": "code",
   "execution_count": 63,
   "metadata": {},
   "outputs": [
    {
     "name": "stdout",
     "output_type": "stream",
     "text": [
      "Overall was spent: 327877\n"
     ]
    }
   ],
   "source": [
    "print('Overall was spent:', int(costs.costs.sum()))"
   ]
  },
  {
   "cell_type": "code",
   "execution_count": 64,
   "metadata": {},
   "outputs": [],
   "source": [
    "costs['order_month'] = costs['dt'].dt.month\n"
   ]
  },
  {
   "cell_type": "code",
   "execution_count": 65,
   "metadata": {},
   "outputs": [
    {
     "data": {
      "text/html": [
       "<div>\n",
       "<style scoped>\n",
       "    .dataframe tbody tr th:only-of-type {\n",
       "        vertical-align: middle;\n",
       "    }\n",
       "\n",
       "    .dataframe tbody tr th {\n",
       "        vertical-align: top;\n",
       "    }\n",
       "\n",
       "    .dataframe thead th {\n",
       "        text-align: right;\n",
       "    }\n",
       "</style>\n",
       "<table border=\"1\" class=\"dataframe\">\n",
       "  <thead>\n",
       "    <tr style=\"text-align: right;\">\n",
       "      <th></th>\n",
       "      <th>order_month</th>\n",
       "      <th>costs</th>\n",
       "    </tr>\n",
       "  </thead>\n",
       "  <tbody>\n",
       "    <tr>\n",
       "      <td>11</td>\n",
       "      <td>12</td>\n",
       "      <td>38217</td>\n",
       "    </tr>\n",
       "    <tr>\n",
       "      <td>10</td>\n",
       "      <td>11</td>\n",
       "      <td>37808</td>\n",
       "    </tr>\n",
       "    <tr>\n",
       "      <td>9</td>\n",
       "      <td>10</td>\n",
       "      <td>36213</td>\n",
       "    </tr>\n",
       "    <tr>\n",
       "      <td>0</td>\n",
       "      <td>1</td>\n",
       "      <td>33407</td>\n",
       "    </tr>\n",
       "    <tr>\n",
       "      <td>1</td>\n",
       "      <td>2</td>\n",
       "      <td>32626</td>\n",
       "    </tr>\n",
       "  </tbody>\n",
       "</table>\n",
       "</div>"
      ],
      "text/plain": [
       "    order_month  costs\n",
       "11           12  38217\n",
       "10           11  37808\n",
       "9            10  36213\n",
       "0             1  33407\n",
       "1             2  32626"
      ]
     },
     "execution_count": 65,
     "metadata": {},
     "output_type": "execute_result"
    }
   ],
   "source": [
    "monthly_costs = costs.groupby('order_month').sum().reset_index().sort_values(by='costs', ascending=False)\n",
    "monthly_costs[['order_month','costs']].head()"
   ]
  },
  {
   "cell_type": "code",
   "execution_count": 66,
   "metadata": {},
   "outputs": [
    {
     "data": {
      "text/plain": [
       "327877"
      ]
     },
     "execution_count": 66,
     "metadata": {},
     "output_type": "execute_result"
    }
   ],
   "source": [
    "monthly_costs.costs.sum()"
   ]
  },
  {
   "cell_type": "code",
   "execution_count": 67,
   "metadata": {},
   "outputs": [
    {
     "data": {
      "text/plain": [
       "327877"
      ]
     },
     "execution_count": 67,
     "metadata": {},
     "output_type": "execute_result"
    }
   ],
   "source": [
    "costs.costs.sum()"
   ]
  },
  {
   "cell_type": "code",
   "execution_count": 68,
   "metadata": {},
   "outputs": [
    {
     "data": {
      "text/html": [
       "<div>\n",
       "<style scoped>\n",
       "    .dataframe tbody tr th:only-of-type {\n",
       "        vertical-align: middle;\n",
       "    }\n",
       "\n",
       "    .dataframe tbody tr th {\n",
       "        vertical-align: top;\n",
       "    }\n",
       "\n",
       "    .dataframe thead th {\n",
       "        text-align: right;\n",
       "    }\n",
       "</style>\n",
       "<table border=\"1\" class=\"dataframe\">\n",
       "  <thead>\n",
       "    <tr style=\"text-align: right;\">\n",
       "      <th></th>\n",
       "      <th>order_month</th>\n",
       "      <th>source_id</th>\n",
       "      <th>costs</th>\n",
       "    </tr>\n",
       "  </thead>\n",
       "  <tbody>\n",
       "    <tr>\n",
       "      <td>0</td>\n",
       "      <td>1</td>\n",
       "      <td>1</td>\n",
       "      <td>2169</td>\n",
       "    </tr>\n",
       "    <tr>\n",
       "      <td>1</td>\n",
       "      <td>1</td>\n",
       "      <td>2</td>\n",
       "      <td>4142</td>\n",
       "    </tr>\n",
       "    <tr>\n",
       "      <td>2</td>\n",
       "      <td>1</td>\n",
       "      <td>3</td>\n",
       "      <td>14791</td>\n",
       "    </tr>\n",
       "    <tr>\n",
       "      <td>3</td>\n",
       "      <td>1</td>\n",
       "      <td>4</td>\n",
       "      <td>5818</td>\n",
       "    </tr>\n",
       "    <tr>\n",
       "      <td>4</td>\n",
       "      <td>1</td>\n",
       "      <td>5</td>\n",
       "      <td>5356</td>\n",
       "    </tr>\n",
       "  </tbody>\n",
       "</table>\n",
       "</div>"
      ],
      "text/plain": [
       "   order_month  source_id  costs\n",
       "0            1          1   2169\n",
       "1            1          2   4142\n",
       "2            1          3  14791\n",
       "3            1          4   5818\n",
       "4            1          5   5356"
      ]
     },
     "execution_count": 68,
     "metadata": {},
     "output_type": "execute_result"
    }
   ],
   "source": [
    "monthly_costs = costs.groupby(['order_month','source_id']).sum().reset_index()\n",
    "monthly_costs.head()"
   ]
  },
  {
   "cell_type": "code",
   "execution_count": 69,
   "metadata": {},
   "outputs": [
    {
     "data": {
      "text/html": [
       "<div>\n",
       "<style scoped>\n",
       "    .dataframe tbody tr th:only-of-type {\n",
       "        vertical-align: middle;\n",
       "    }\n",
       "\n",
       "    .dataframe tbody tr th {\n",
       "        vertical-align: top;\n",
       "    }\n",
       "\n",
       "    .dataframe thead th {\n",
       "        text-align: right;\n",
       "    }\n",
       "</style>\n",
       "<table border=\"1\" class=\"dataframe\">\n",
       "  <thead>\n",
       "    <tr style=\"text-align: right;\">\n",
       "      <th></th>\n",
       "      <th>source_id</th>\n",
       "      <th>costs</th>\n",
       "    </tr>\n",
       "  </thead>\n",
       "  <tbody>\n",
       "    <tr>\n",
       "      <td>2</td>\n",
       "      <td>3</td>\n",
       "      <td>141144</td>\n",
       "    </tr>\n",
       "    <tr>\n",
       "      <td>3</td>\n",
       "      <td>4</td>\n",
       "      <td>60900</td>\n",
       "    </tr>\n",
       "    <tr>\n",
       "      <td>4</td>\n",
       "      <td>5</td>\n",
       "      <td>51565</td>\n",
       "    </tr>\n",
       "    <tr>\n",
       "      <td>1</td>\n",
       "      <td>2</td>\n",
       "      <td>42626</td>\n",
       "    </tr>\n",
       "    <tr>\n",
       "      <td>0</td>\n",
       "      <td>1</td>\n",
       "      <td>20660</td>\n",
       "    </tr>\n",
       "    <tr>\n",
       "      <td>6</td>\n",
       "      <td>10</td>\n",
       "      <td>5645</td>\n",
       "    </tr>\n",
       "    <tr>\n",
       "      <td>5</td>\n",
       "      <td>9</td>\n",
       "      <td>5337</td>\n",
       "    </tr>\n",
       "  </tbody>\n",
       "</table>\n",
       "</div>"
      ],
      "text/plain": [
       "   source_id   costs\n",
       "2          3  141144\n",
       "3          4   60900\n",
       "4          5   51565\n",
       "1          2   42626\n",
       "0          1   20660\n",
       "6         10    5645\n",
       "5          9    5337"
      ]
     },
     "execution_count": 69,
     "metadata": {},
     "output_type": "execute_result"
    }
   ],
   "source": [
    "source_id_overall = costs.groupby('source_id').sum().reset_index()\n",
    "source_id_overall = source_id_overall[['source_id','costs']]\n",
    "source_id_overall.sort_values(by='costs', ascending = False)"
   ]
  },
  {
   "cell_type": "code",
   "execution_count": 70,
   "metadata": {},
   "outputs": [
    {
     "data": {
      "image/png": "[encoded data removed]",
      "text/plain": [
       "<Figure size 720x360 with 1 Axes>"
      ]
     },
     "metadata": {},
     "output_type": "display_data"
    }
   ],
   "source": [
    "plt.figure(figsize=(10,5))\n",
    "plt.title('How Much Money was Spent: per source overall')\n",
    "y_pos = np.arange(len(source_id_overall.costs))\n",
    "plt.bar(y_pos, source_id_overall.costs, color=['red', 'blue', 'green', 'purple', 'orange', 'grey', 'black'])\n",
    "plt.xticks(y_pos, source_id_overall.source_id)\n",
    "plt.show()\n",
    "\n"
   ]
  },
  {
   "cell_type": "code",
   "execution_count": 71,
   "metadata": {},
   "outputs": [
    {
     "data": {
      "image/png": "[encoded data removed]",
      "text/plain": [
       "<Figure size 1224x360 with 1 Axes>"
      ]
     },
     "metadata": {},
     "output_type": "display_data"
    }
   ],
   "source": [
    "plt.figure(figsize=(17,5))\n",
    "plt.title('How Much Money was Spent: per source/per month')\n",
    "sns.set_style(\"whitegrid\")\n",
    "sns.lineplot(data=monthly_costs, x=\"order_month\",y=\"costs\", legend=\"full\", hue=\"source_id\", palette=\"Set1\")\n",
    "plt.show()"
   ]
  },
  {
   "cell_type": "code",
   "execution_count": 72,
   "metadata": {},
   "outputs": [
    {
     "data": {
      "text/html": [
       "<div>\n",
       "<style scoped>\n",
       "    .dataframe tbody tr th:only-of-type {\n",
       "        vertical-align: middle;\n",
       "    }\n",
       "\n",
       "    .dataframe tbody tr th {\n",
       "        vertical-align: top;\n",
       "    }\n",
       "\n",
       "    .dataframe thead th {\n",
       "        text-align: right;\n",
       "    }\n",
       "</style>\n",
       "<table border=\"1\" class=\"dataframe\">\n",
       "  <thead>\n",
       "    <tr style=\"text-align: right;\">\n",
       "      <th></th>\n",
       "      <th>order_month</th>\n",
       "      <th>source_id</th>\n",
       "      <th>costs</th>\n",
       "    </tr>\n",
       "  </thead>\n",
       "  <tbody>\n",
       "    <tr>\n",
       "      <td>72</td>\n",
       "      <td>11</td>\n",
       "      <td>3</td>\n",
       "      <td>17010</td>\n",
       "    </tr>\n",
       "    <tr>\n",
       "      <td>79</td>\n",
       "      <td>12</td>\n",
       "      <td>3</td>\n",
       "      <td>16206</td>\n",
       "    </tr>\n",
       "    <tr>\n",
       "      <td>65</td>\n",
       "      <td>10</td>\n",
       "      <td>3</td>\n",
       "      <td>15723</td>\n",
       "    </tr>\n",
       "  </tbody>\n",
       "</table>\n",
       "</div>"
      ],
      "text/plain": [
       "    order_month  source_id  costs\n",
       "72           11          3  17010\n",
       "79           12          3  16206\n",
       "65           10          3  15723"
      ]
     },
     "execution_count": 72,
     "metadata": {},
     "output_type": "execute_result"
    }
   ],
   "source": [
    "monthly_costs.sort_values(by='costs', ascending = False).head(3)"
   ]
  },
  {
   "cell_type": "markdown",
   "metadata": {},
   "source": [
    "We can see that the highest costs are coming from the source_id 3: Nov'17 - 17 010; Dec'17 - 16 206; Oct'17 - 15 723.\n",
    "\n",
    "Overall top 3 costs source are as follows:\t3 - 141144; 4 -\t60900; 5 - 51565.\n",
    "Overall was spent: 327877. \n",
    "Top 3 months by money spent by user (regardless the source): Dec'17 - 38217; Nov'17 - 37808; Oct'17 - 36213."
   ]
  },
  {
   "cell_type": "code",
   "execution_count": 73,
   "metadata": {},
   "outputs": [
    {
     "data": {
      "text/html": [
       "<div>\n",
       "<style scoped>\n",
       "    .dataframe tbody tr th:only-of-type {\n",
       "        vertical-align: middle;\n",
       "    }\n",
       "\n",
       "    .dataframe tbody tr th {\n",
       "        vertical-align: top;\n",
       "    }\n",
       "\n",
       "    .dataframe thead th {\n",
       "        text-align: right;\n",
       "    }\n",
       "</style>\n",
       "<table border=\"1\" class=\"dataframe\">\n",
       "  <thead>\n",
       "    <tr style=\"text-align: right;\">\n",
       "      <th></th>\n",
       "      <th>order_month</th>\n",
       "      <th>n_buyers</th>\n",
       "      <th>revenues</th>\n",
       "      <th>ltv</th>\n",
       "    </tr>\n",
       "  </thead>\n",
       "  <tbody>\n",
       "    <tr>\n",
       "      <td>0</td>\n",
       "      <td>1</td>\n",
       "      <td>3232</td>\n",
       "      <td>19417.13</td>\n",
       "      <td>6.007775</td>\n",
       "    </tr>\n",
       "    <tr>\n",
       "      <td>1</td>\n",
       "      <td>2</td>\n",
       "      <td>3535</td>\n",
       "      <td>25560.54</td>\n",
       "      <td>7.230704</td>\n",
       "    </tr>\n",
       "    <tr>\n",
       "      <td>2</td>\n",
       "      <td>3</td>\n",
       "      <td>3429</td>\n",
       "      <td>28834.59</td>\n",
       "      <td>8.409038</td>\n",
       "    </tr>\n",
       "    <tr>\n",
       "      <td>3</td>\n",
       "      <td>4</td>\n",
       "      <td>2233</td>\n",
       "      <td>16858.06</td>\n",
       "      <td>7.549512</td>\n",
       "    </tr>\n",
       "    <tr>\n",
       "      <td>4</td>\n",
       "      <td>5</td>\n",
       "      <td>2941</td>\n",
       "      <td>20735.98</td>\n",
       "      <td>7.050656</td>\n",
       "    </tr>\n",
       "    <tr>\n",
       "      <td>5</td>\n",
       "      <td>6</td>\n",
       "      <td>1909</td>\n",
       "      <td>9560.91</td>\n",
       "      <td>5.008334</td>\n",
       "    </tr>\n",
       "    <tr>\n",
       "      <td>6</td>\n",
       "      <td>7</td>\n",
       "      <td>1791</td>\n",
       "      <td>12539.47</td>\n",
       "      <td>7.001379</td>\n",
       "    </tr>\n",
       "    <tr>\n",
       "      <td>7</td>\n",
       "      <td>8</td>\n",
       "      <td>1291</td>\n",
       "      <td>8758.78</td>\n",
       "      <td>6.784493</td>\n",
       "    </tr>\n",
       "    <tr>\n",
       "      <td>8</td>\n",
       "      <td>9</td>\n",
       "      <td>2384</td>\n",
       "      <td>18345.51</td>\n",
       "      <td>7.695264</td>\n",
       "    </tr>\n",
       "    <tr>\n",
       "      <td>9</td>\n",
       "      <td>10</td>\n",
       "      <td>4082</td>\n",
       "      <td>27987.70</td>\n",
       "      <td>6.856369</td>\n",
       "    </tr>\n",
       "    <tr>\n",
       "      <td>10</td>\n",
       "      <td>11</td>\n",
       "      <td>3870</td>\n",
       "      <td>27069.93</td>\n",
       "      <td>6.994814</td>\n",
       "    </tr>\n",
       "    <tr>\n",
       "      <td>11</td>\n",
       "      <td>12</td>\n",
       "      <td>4167</td>\n",
       "      <td>36388.60</td>\n",
       "      <td>8.732565</td>\n",
       "    </tr>\n",
       "  </tbody>\n",
       "</table>\n",
       "</div>"
      ],
      "text/plain": [
       "    order_month  n_buyers  revenues       ltv\n",
       "0             1      3232  19417.13  6.007775\n",
       "1             2      3535  25560.54  7.230704\n",
       "2             3      3429  28834.59  8.409038\n",
       "3             4      2233  16858.06  7.549512\n",
       "4             5      2941  20735.98  7.050656\n",
       "5             6      1909   9560.91  5.008334\n",
       "6             7      1791  12539.47  7.001379\n",
       "7             8      1291   8758.78  6.784493\n",
       "8             9      2384  18345.51  7.695264\n",
       "9            10      4082  27987.70  6.856369\n",
       "10           11      3870  27069.93  6.994814\n",
       "11           12      4167  36388.60  8.732565"
      ]
     },
     "execution_count": 73,
     "metadata": {},
     "output_type": "execute_result"
    }
   ],
   "source": [
    "report"
   ]
  },
  {
   "cell_type": "markdown",
   "metadata": {},
   "source": [
    "#### 3.2. How much did customer acquisition from each of the month cost (CAC)"
   ]
  },
  {
   "cell_type": "code",
   "execution_count": 74,
   "metadata": {},
   "outputs": [],
   "source": [
    "#Let's see how much did customer acquisition from each of the month cost (CAC)\n",
    "costs_mnth = costs[['costs','order_month']]\n",
    "costs_mnth = costs_mnth.groupby('order_month').sum().reset_index()\n",
    "#costs_mnth.costs.sum()\n",
    "report_ = pd.merge(report, costs_mnth,  on='order_month')\n",
    "report_['cac'] = report_['costs'] / report_['n_buyers']"
   ]
  },
  {
   "cell_type": "code",
   "execution_count": 75,
   "metadata": {},
   "outputs": [
    {
     "data": {
      "text/html": [
       "<div>\n",
       "<style scoped>\n",
       "    .dataframe tbody tr th:only-of-type {\n",
       "        vertical-align: middle;\n",
       "    }\n",
       "\n",
       "    .dataframe tbody tr th {\n",
       "        vertical-align: top;\n",
       "    }\n",
       "\n",
       "    .dataframe thead th {\n",
       "        text-align: right;\n",
       "    }\n",
       "</style>\n",
       "<table border=\"1\" class=\"dataframe\">\n",
       "  <thead>\n",
       "    <tr style=\"text-align: right;\">\n",
       "      <th></th>\n",
       "      <th>order_month</th>\n",
       "      <th>n_buyers</th>\n",
       "      <th>revenues</th>\n",
       "      <th>ltv</th>\n",
       "      <th>costs</th>\n",
       "      <th>cac</th>\n",
       "    </tr>\n",
       "  </thead>\n",
       "  <tbody>\n",
       "    <tr>\n",
       "      <td>0</td>\n",
       "      <td>1</td>\n",
       "      <td>3232</td>\n",
       "      <td>19417.13</td>\n",
       "      <td>6.007775</td>\n",
       "      <td>33407</td>\n",
       "      <td>10.336324</td>\n",
       "    </tr>\n",
       "    <tr>\n",
       "      <td>1</td>\n",
       "      <td>2</td>\n",
       "      <td>3535</td>\n",
       "      <td>25560.54</td>\n",
       "      <td>7.230704</td>\n",
       "      <td>32626</td>\n",
       "      <td>9.229420</td>\n",
       "    </tr>\n",
       "    <tr>\n",
       "      <td>2</td>\n",
       "      <td>3</td>\n",
       "      <td>3429</td>\n",
       "      <td>28834.59</td>\n",
       "      <td>8.409038</td>\n",
       "      <td>30312</td>\n",
       "      <td>8.839895</td>\n",
       "    </tr>\n",
       "    <tr>\n",
       "      <td>3</td>\n",
       "      <td>4</td>\n",
       "      <td>2233</td>\n",
       "      <td>16858.06</td>\n",
       "      <td>7.549512</td>\n",
       "      <td>22189</td>\n",
       "      <td>9.936856</td>\n",
       "    </tr>\n",
       "    <tr>\n",
       "      <td>4</td>\n",
       "      <td>5</td>\n",
       "      <td>2941</td>\n",
       "      <td>20735.98</td>\n",
       "      <td>7.050656</td>\n",
       "      <td>22118</td>\n",
       "      <td>7.520571</td>\n",
       "    </tr>\n",
       "    <tr>\n",
       "      <td>5</td>\n",
       "      <td>6</td>\n",
       "      <td>1909</td>\n",
       "      <td>9560.91</td>\n",
       "      <td>5.008334</td>\n",
       "      <td>17916</td>\n",
       "      <td>9.385018</td>\n",
       "    </tr>\n",
       "    <tr>\n",
       "      <td>6</td>\n",
       "      <td>7</td>\n",
       "      <td>1791</td>\n",
       "      <td>12539.47</td>\n",
       "      <td>7.001379</td>\n",
       "      <td>18129</td>\n",
       "      <td>10.122278</td>\n",
       "    </tr>\n",
       "    <tr>\n",
       "      <td>7</td>\n",
       "      <td>8</td>\n",
       "      <td>1291</td>\n",
       "      <td>8758.78</td>\n",
       "      <td>6.784493</td>\n",
       "      <td>14684</td>\n",
       "      <td>11.374129</td>\n",
       "    </tr>\n",
       "    <tr>\n",
       "      <td>8</td>\n",
       "      <td>9</td>\n",
       "      <td>2384</td>\n",
       "      <td>18345.51</td>\n",
       "      <td>7.695264</td>\n",
       "      <td>24258</td>\n",
       "      <td>10.175336</td>\n",
       "    </tr>\n",
       "    <tr>\n",
       "      <td>9</td>\n",
       "      <td>10</td>\n",
       "      <td>4082</td>\n",
       "      <td>27987.70</td>\n",
       "      <td>6.856369</td>\n",
       "      <td>36213</td>\n",
       "      <td>8.871387</td>\n",
       "    </tr>\n",
       "    <tr>\n",
       "      <td>10</td>\n",
       "      <td>11</td>\n",
       "      <td>3870</td>\n",
       "      <td>27069.93</td>\n",
       "      <td>6.994814</td>\n",
       "      <td>37808</td>\n",
       "      <td>9.769509</td>\n",
       "    </tr>\n",
       "    <tr>\n",
       "      <td>11</td>\n",
       "      <td>12</td>\n",
       "      <td>4167</td>\n",
       "      <td>36388.60</td>\n",
       "      <td>8.732565</td>\n",
       "      <td>38217</td>\n",
       "      <td>9.171346</td>\n",
       "    </tr>\n",
       "  </tbody>\n",
       "</table>\n",
       "</div>"
      ],
      "text/plain": [
       "    order_month  n_buyers  revenues       ltv  costs        cac\n",
       "0             1      3232  19417.13  6.007775  33407  10.336324\n",
       "1             2      3535  25560.54  7.230704  32626   9.229420\n",
       "2             3      3429  28834.59  8.409038  30312   8.839895\n",
       "3             4      2233  16858.06  7.549512  22189   9.936856\n",
       "4             5      2941  20735.98  7.050656  22118   7.520571\n",
       "5             6      1909   9560.91  5.008334  17916   9.385018\n",
       "6             7      1791  12539.47  7.001379  18129  10.122278\n",
       "7             8      1291   8758.78  6.784493  14684  11.374129\n",
       "8             9      2384  18345.51  7.695264  24258  10.175336\n",
       "9            10      4082  27987.70  6.856369  36213   8.871387\n",
       "10           11      3870  27069.93  6.994814  37808   9.769509\n",
       "11           12      4167  36388.60  8.732565  38217   9.171346"
      ]
     },
     "execution_count": 75,
     "metadata": {},
     "output_type": "execute_result"
    }
   ],
   "source": [
    "report_"
   ]
  },
  {
   "cell_type": "code",
   "execution_count": 76,
   "metadata": {},
   "outputs": [
    {
     "data": {
      "text/html": [
       "<div>\n",
       "<style scoped>\n",
       "    .dataframe tbody tr th:only-of-type {\n",
       "        vertical-align: middle;\n",
       "    }\n",
       "\n",
       "    .dataframe tbody tr th {\n",
       "        vertical-align: top;\n",
       "    }\n",
       "\n",
       "    .dataframe thead th {\n",
       "        text-align: right;\n",
       "    }\n",
       "</style>\n",
       "<table border=\"1\" class=\"dataframe\">\n",
       "  <thead>\n",
       "    <tr style=\"text-align: right;\">\n",
       "      <th></th>\n",
       "      <th>order_month</th>\n",
       "      <th>cac</th>\n",
       "    </tr>\n",
       "  </thead>\n",
       "  <tbody>\n",
       "    <tr>\n",
       "      <td>0</td>\n",
       "      <td>1</td>\n",
       "      <td>10.336324</td>\n",
       "    </tr>\n",
       "    <tr>\n",
       "      <td>1</td>\n",
       "      <td>2</td>\n",
       "      <td>9.229420</td>\n",
       "    </tr>\n",
       "    <tr>\n",
       "      <td>2</td>\n",
       "      <td>3</td>\n",
       "      <td>8.839895</td>\n",
       "    </tr>\n",
       "    <tr>\n",
       "      <td>3</td>\n",
       "      <td>4</td>\n",
       "      <td>9.936856</td>\n",
       "    </tr>\n",
       "    <tr>\n",
       "      <td>4</td>\n",
       "      <td>5</td>\n",
       "      <td>7.520571</td>\n",
       "    </tr>\n",
       "    <tr>\n",
       "      <td>5</td>\n",
       "      <td>6</td>\n",
       "      <td>9.385018</td>\n",
       "    </tr>\n",
       "    <tr>\n",
       "      <td>6</td>\n",
       "      <td>7</td>\n",
       "      <td>10.122278</td>\n",
       "    </tr>\n",
       "    <tr>\n",
       "      <td>7</td>\n",
       "      <td>8</td>\n",
       "      <td>11.374129</td>\n",
       "    </tr>\n",
       "    <tr>\n",
       "      <td>8</td>\n",
       "      <td>9</td>\n",
       "      <td>10.175336</td>\n",
       "    </tr>\n",
       "    <tr>\n",
       "      <td>9</td>\n",
       "      <td>10</td>\n",
       "      <td>8.871387</td>\n",
       "    </tr>\n",
       "    <tr>\n",
       "      <td>10</td>\n",
       "      <td>11</td>\n",
       "      <td>9.769509</td>\n",
       "    </tr>\n",
       "    <tr>\n",
       "      <td>11</td>\n",
       "      <td>12</td>\n",
       "      <td>9.171346</td>\n",
       "    </tr>\n",
       "  </tbody>\n",
       "</table>\n",
       "</div>"
      ],
      "text/plain": [
       "    order_month        cac\n",
       "0             1  10.336324\n",
       "1             2   9.229420\n",
       "2             3   8.839895\n",
       "3             4   9.936856\n",
       "4             5   7.520571\n",
       "5             6   9.385018\n",
       "6             7  10.122278\n",
       "7             8  11.374129\n",
       "8             9  10.175336\n",
       "9            10   8.871387\n",
       "10           11   9.769509\n",
       "11           12   9.171346"
      ]
     },
     "execution_count": 76,
     "metadata": {},
     "output_type": "execute_result"
    }
   ],
   "source": [
    "output_cac_mnth = report_.pivot_table(\n",
    "    index='order_month',  \n",
    "    values='cac', \n",
    "    aggfunc='mean').reset_index()\n",
    "output_cac_mnth"
   ]
  },
  {
   "cell_type": "code",
   "execution_count": 77,
   "metadata": {},
   "outputs": [
    {
     "data": {
      "image/png": "[encoded data removed]",
      "text/plain": [
       "<Figure size 1080x216 with 1 Axes>"
      ]
     },
     "metadata": {},
     "output_type": "display_data"
    }
   ],
   "source": [
    "# let's plot chart for average CAC per month \n",
    "\n",
    "fig,ax=plt.subplots(figsize=(15,3))\n",
    "ax.vlines(x=output_cac_mnth.order_month, ymin=0, ymax=output_cac_mnth.cac, color='blue', alpha=0.7,linewidth=2)\n",
    "ax.set_title('Chart for CAC per Month', fontdict={'size':15})\n",
    "ax.set_ylabel('Average Cost per Aquisition')\n",
    "ax.set_xticks(output_cac_mnth.order_month)\n",
    "ax.scatter(x=output_cac_mnth.order_month, y=output_cac_mnth.cac, s=75, color='red', alpha=0.7)\n",
    "for row in output_cac_mnth.itertuples():\n",
    "    ax.text(row.order_month, row.cac, s=round(row.cac, 2))"
   ]
  },
  {
   "cell_type": "markdown",
   "metadata": {},
   "source": [
    "We can see that the lowest CAC was in May'18 - 7.52 (probably as it was the beginning of the analysis), the next lowest CAC was in Mar'18 - 8.84; the highest CAC was in Aug'17 - 11.37."
   ]
  },
  {
   "cell_type": "markdown",
   "metadata": {},
   "source": [
    "#### 3.3. How worthwhile were the investments (ROMI)\n"
   ]
  },
  {
   "cell_type": "code",
   "execution_count": 78,
   "metadata": {},
   "outputs": [
    {
     "data": {
      "text/html": [
       "<div>\n",
       "<style scoped>\n",
       "    .dataframe tbody tr th:only-of-type {\n",
       "        vertical-align: middle;\n",
       "    }\n",
       "\n",
       "    .dataframe tbody tr th {\n",
       "        vertical-align: top;\n",
       "    }\n",
       "\n",
       "    .dataframe thead th {\n",
       "        text-align: right;\n",
       "    }\n",
       "</style>\n",
       "<table border=\"1\" class=\"dataframe\">\n",
       "  <thead>\n",
       "    <tr style=\"text-align: right;\">\n",
       "      <th></th>\n",
       "      <th>order_month</th>\n",
       "      <th>n_buyers</th>\n",
       "      <th>revenues</th>\n",
       "      <th>ltv</th>\n",
       "      <th>costs</th>\n",
       "      <th>cac</th>\n",
       "      <th>romi</th>\n",
       "    </tr>\n",
       "  </thead>\n",
       "  <tbody>\n",
       "    <tr>\n",
       "      <td>0</td>\n",
       "      <td>1</td>\n",
       "      <td>3232</td>\n",
       "      <td>19417.13</td>\n",
       "      <td>6.007775</td>\n",
       "      <td>33407</td>\n",
       "      <td>10.336324</td>\n",
       "      <td>0.581229</td>\n",
       "    </tr>\n",
       "    <tr>\n",
       "      <td>1</td>\n",
       "      <td>2</td>\n",
       "      <td>3535</td>\n",
       "      <td>25560.54</td>\n",
       "      <td>7.230704</td>\n",
       "      <td>32626</td>\n",
       "      <td>9.229420</td>\n",
       "      <td>0.783441</td>\n",
       "    </tr>\n",
       "    <tr>\n",
       "      <td>2</td>\n",
       "      <td>3</td>\n",
       "      <td>3429</td>\n",
       "      <td>28834.59</td>\n",
       "      <td>8.409038</td>\n",
       "      <td>30312</td>\n",
       "      <td>8.839895</td>\n",
       "      <td>0.951260</td>\n",
       "    </tr>\n",
       "    <tr>\n",
       "      <td>3</td>\n",
       "      <td>4</td>\n",
       "      <td>2233</td>\n",
       "      <td>16858.06</td>\n",
       "      <td>7.549512</td>\n",
       "      <td>22189</td>\n",
       "      <td>9.936856</td>\n",
       "      <td>0.759749</td>\n",
       "    </tr>\n",
       "    <tr>\n",
       "      <td>4</td>\n",
       "      <td>5</td>\n",
       "      <td>2941</td>\n",
       "      <td>20735.98</td>\n",
       "      <td>7.050656</td>\n",
       "      <td>22118</td>\n",
       "      <td>7.520571</td>\n",
       "      <td>0.937516</td>\n",
       "    </tr>\n",
       "    <tr>\n",
       "      <td>5</td>\n",
       "      <td>6</td>\n",
       "      <td>1909</td>\n",
       "      <td>9560.91</td>\n",
       "      <td>5.008334</td>\n",
       "      <td>17916</td>\n",
       "      <td>9.385018</td>\n",
       "      <td>0.533652</td>\n",
       "    </tr>\n",
       "    <tr>\n",
       "      <td>6</td>\n",
       "      <td>7</td>\n",
       "      <td>1791</td>\n",
       "      <td>12539.47</td>\n",
       "      <td>7.001379</td>\n",
       "      <td>18129</td>\n",
       "      <td>10.122278</td>\n",
       "      <td>0.691680</td>\n",
       "    </tr>\n",
       "    <tr>\n",
       "      <td>7</td>\n",
       "      <td>8</td>\n",
       "      <td>1291</td>\n",
       "      <td>8758.78</td>\n",
       "      <td>6.784493</td>\n",
       "      <td>14684</td>\n",
       "      <td>11.374129</td>\n",
       "      <td>0.596485</td>\n",
       "    </tr>\n",
       "    <tr>\n",
       "      <td>8</td>\n",
       "      <td>9</td>\n",
       "      <td>2384</td>\n",
       "      <td>18345.51</td>\n",
       "      <td>7.695264</td>\n",
       "      <td>24258</td>\n",
       "      <td>10.175336</td>\n",
       "      <td>0.756266</td>\n",
       "    </tr>\n",
       "    <tr>\n",
       "      <td>9</td>\n",
       "      <td>10</td>\n",
       "      <td>4082</td>\n",
       "      <td>27987.70</td>\n",
       "      <td>6.856369</td>\n",
       "      <td>36213</td>\n",
       "      <td>8.871387</td>\n",
       "      <td>0.772863</td>\n",
       "    </tr>\n",
       "    <tr>\n",
       "      <td>10</td>\n",
       "      <td>11</td>\n",
       "      <td>3870</td>\n",
       "      <td>27069.93</td>\n",
       "      <td>6.994814</td>\n",
       "      <td>37808</td>\n",
       "      <td>9.769509</td>\n",
       "      <td>0.715984</td>\n",
       "    </tr>\n",
       "    <tr>\n",
       "      <td>11</td>\n",
       "      <td>12</td>\n",
       "      <td>4167</td>\n",
       "      <td>36388.60</td>\n",
       "      <td>8.732565</td>\n",
       "      <td>38217</td>\n",
       "      <td>9.171346</td>\n",
       "      <td>0.952157</td>\n",
       "    </tr>\n",
       "  </tbody>\n",
       "</table>\n",
       "</div>"
      ],
      "text/plain": [
       "    order_month  n_buyers  revenues       ltv  costs        cac      romi\n",
       "0             1      3232  19417.13  6.007775  33407  10.336324  0.581229\n",
       "1             2      3535  25560.54  7.230704  32626   9.229420  0.783441\n",
       "2             3      3429  28834.59  8.409038  30312   8.839895  0.951260\n",
       "3             4      2233  16858.06  7.549512  22189   9.936856  0.759749\n",
       "4             5      2941  20735.98  7.050656  22118   7.520571  0.937516\n",
       "5             6      1909   9560.91  5.008334  17916   9.385018  0.533652\n",
       "6             7      1791  12539.47  7.001379  18129  10.122278  0.691680\n",
       "7             8      1291   8758.78  6.784493  14684  11.374129  0.596485\n",
       "8             9      2384  18345.51  7.695264  24258  10.175336  0.756266\n",
       "9            10      4082  27987.70  6.856369  36213   8.871387  0.772863\n",
       "10           11      3870  27069.93  6.994814  37808   9.769509  0.715984\n",
       "11           12      4167  36388.60  8.732565  38217   9.171346  0.952157"
      ]
     },
     "execution_count": 78,
     "metadata": {},
     "output_type": "execute_result"
    }
   ],
   "source": [
    "#Let's check now how worthwhile were the investments (ROI)\n",
    "report_['romi'] = report_['ltv'] / report_['cac']\n",
    "report_"
   ]
  },
  {
   "cell_type": "code",
   "execution_count": 79,
   "metadata": {},
   "outputs": [
    {
     "data": {
      "text/html": [
       "<div>\n",
       "<style scoped>\n",
       "    .dataframe tbody tr th:only-of-type {\n",
       "        vertical-align: middle;\n",
       "    }\n",
       "\n",
       "    .dataframe tbody tr th {\n",
       "        vertical-align: top;\n",
       "    }\n",
       "\n",
       "    .dataframe thead th {\n",
       "        text-align: right;\n",
       "    }\n",
       "</style>\n",
       "<table border=\"1\" class=\"dataframe\">\n",
       "  <thead>\n",
       "    <tr style=\"text-align: right;\">\n",
       "      <th></th>\n",
       "      <th>order_month</th>\n",
       "      <th>romi</th>\n",
       "    </tr>\n",
       "  </thead>\n",
       "  <tbody>\n",
       "    <tr>\n",
       "      <td>0</td>\n",
       "      <td>1</td>\n",
       "      <td>0.581229</td>\n",
       "    </tr>\n",
       "    <tr>\n",
       "      <td>1</td>\n",
       "      <td>2</td>\n",
       "      <td>0.783441</td>\n",
       "    </tr>\n",
       "    <tr>\n",
       "      <td>2</td>\n",
       "      <td>3</td>\n",
       "      <td>0.951260</td>\n",
       "    </tr>\n",
       "    <tr>\n",
       "      <td>3</td>\n",
       "      <td>4</td>\n",
       "      <td>0.759749</td>\n",
       "    </tr>\n",
       "    <tr>\n",
       "      <td>4</td>\n",
       "      <td>5</td>\n",
       "      <td>0.937516</td>\n",
       "    </tr>\n",
       "    <tr>\n",
       "      <td>5</td>\n",
       "      <td>6</td>\n",
       "      <td>0.533652</td>\n",
       "    </tr>\n",
       "    <tr>\n",
       "      <td>6</td>\n",
       "      <td>7</td>\n",
       "      <td>0.691680</td>\n",
       "    </tr>\n",
       "    <tr>\n",
       "      <td>7</td>\n",
       "      <td>8</td>\n",
       "      <td>0.596485</td>\n",
       "    </tr>\n",
       "    <tr>\n",
       "      <td>8</td>\n",
       "      <td>9</td>\n",
       "      <td>0.756266</td>\n",
       "    </tr>\n",
       "    <tr>\n",
       "      <td>9</td>\n",
       "      <td>10</td>\n",
       "      <td>0.772863</td>\n",
       "    </tr>\n",
       "    <tr>\n",
       "      <td>10</td>\n",
       "      <td>11</td>\n",
       "      <td>0.715984</td>\n",
       "    </tr>\n",
       "    <tr>\n",
       "      <td>11</td>\n",
       "      <td>12</td>\n",
       "      <td>0.952157</td>\n",
       "    </tr>\n",
       "  </tbody>\n",
       "</table>\n",
       "</div>"
      ],
      "text/plain": [
       "    order_month      romi\n",
       "0             1  0.581229\n",
       "1             2  0.783441\n",
       "2             3  0.951260\n",
       "3             4  0.759749\n",
       "4             5  0.937516\n",
       "5             6  0.533652\n",
       "6             7  0.691680\n",
       "7             8  0.596485\n",
       "8             9  0.756266\n",
       "9            10  0.772863\n",
       "10           11  0.715984\n",
       "11           12  0.952157"
      ]
     },
     "execution_count": 79,
     "metadata": {},
     "output_type": "execute_result"
    }
   ],
   "source": [
    "output_romi_source = report_.pivot_table(\n",
    "    index='order_month', \n",
    "    values='romi', \n",
    "    aggfunc='mean').reset_index()\n",
    "output_romi_source"
   ]
  },
  {
   "cell_type": "code",
   "execution_count": 80,
   "metadata": {},
   "outputs": [
    {
     "data": {
      "image/png": "[encoded data removed]",
      "text/plain": [
       "<Figure size 1080x216 with 1 Axes>"
      ]
     },
     "metadata": {},
     "output_type": "display_data"
    }
   ],
   "source": [
    "# let's plot chart for average ROMI per month \n",
    "\n",
    "fig,ax=plt.subplots(figsize=(15,3))\n",
    "ax.vlines(x=output_romi_source.order_month, ymin=0, ymax=output_romi_source.romi, color='blue', alpha=0.7,linewidth=2)\n",
    "ax.set_title('Chart for ROMI per Month', fontdict={'size':15})\n",
    "ax.set_ylabel('Return on Marketing Investments')\n",
    "ax.set_xticks(output_romi_source.order_month)\n",
    "ax.scatter(x=output_romi_source.order_month, y=output_romi_source.romi, s=75, color='red', alpha=0.7)\n",
    "for row in output_romi_source.itertuples():\n",
    "    ax.text(row.order_month, row.romi, s=round(row.romi, 2))"
   ]
  },
  {
   "cell_type": "markdown",
   "metadata": {},
   "source": [
    "We can see that the lowest ROMI was in Jun'17 - 0.53; the highest ROMI was in Dec'17 and Mar'18 - 0.95."
   ]
  },
  {
   "cell_type": "markdown",
   "metadata": {},
   "source": [
    "## Step 3: Conclusion"
   ]
  },
  {
   "cell_type": "markdown",
   "metadata": {},
   "source": [
    "In the present reserach we studhied **Yandex.Afisha** data, helping to optimize marketing expenses. We learnt how people use the product; when they start to buy; how much money each customer brings; when they pay off.\n",
    "\n",
    "We had 3 data sets:\n",
    "* Server logs with data on Yandex.Afisha visits from June 2017 through May 2018 - **visits** table\n",
    "    * Its total length is 359400 rows, every row represents one server log with data on website visits and its characteristics in columns: Uid — user's unique identifier; Device — user's device; Start Ts — session start date and time; End Ts — session end date and time; Source Id — identifier of the ad source the user came from.\n",
    "\n",
    "* Dump file with all orders for the period - **orders** table\n",
    "    * Its total length is 50415 rows, every row represents one order and its characteristics in columns: Uid — unique identifier of the user making an order; Buy Ts — order date and time; Revenue — Yandex.Afisha's revenue from the order.\n",
    "\n",
    "* Marketing expenses statistics - **costs** table\n",
    "    * Its total length is 2542 rows, every row represents one marketing expense and its characteristics in columns: source_id — ad source identifier; dt — date; costs — expenses on this ad source on this day.\n",
    "\n",
    "In the first part of our analysis we checked the **Product**.\n",
    "So, how many people use it every day, week, and month:\n",
    "- the number of daily active (unique) users: 907\n",
    "- the number of weekly active users: 5716\n",
    "- the number of monthly active users: 23228\n",
    "\n",
    "We found that 3% if unique users return to the app on the weekly (sticky WAU) basis and 15 % on the monthly basis (sticky MAU). \n",
    "In addition, we saw on our graph that the minimum number of users was in the week 22 in 2017 (beginning of our data set) while the spike of the daily and monthly active users was in Nov'17 (that is around week 46-47).\n",
    "*Note: our data contains visits from June 2017 through May 2018, thus in 2017 week 22 was in June, while in 2018 it was in May, that's why we saw week 22 twice on our WAU graph.\n",
    "\n",
    "Regarding the number of sessions we found that in average there were around 1000-1500 sessions a day from Sep’17 through Mar’18. In the same time there were couple of spikes on the 24-25 of Nov’17 with more than 4000 sessions and on the 31 of May’18 - 2300 sessions; a drop to 0 was on the 30-31 of Mar’18.\n",
    "\n",
    "While checking the session duration we saw that the average session lasts 643 seconds, maximum length was 84480 sec (almost 24h) and the median was 300 seconds while the standard deviation was 1016 seconds.\n",
    "\n",
    "When answering the question how often do users come back we found that the best result was for users from Sep'17 cohort (starting their activity in Sep’17), 10% of them kept coming back the two month (Nov’17); also 9% of Jan'18 cohort came back in the next period (Feb’18).\n",
    "\n",
    "In the second part of our analysis we checked the **Sales**.\n",
    "\n",
    "In our stat we saw that from 2281 69 users who visited the service, 36 523 unique users made an order and became customers (was “converted”) that is 16% from total. Thus, 11% of users made an order at their first day, 12 % of users became customers within 7 days from the first visit, 13% - within 14 days and 13% within 30 days. In average, it took about 17 days from the first visit for the customer to make an order. \n",
    "\n",
    "While checking convrsion by monthly cohorts - from first session, we can see that the best result was in Oct'17 cohort with 3302 d0 conversions, then was Dec'17 cohort with 2992 d0 conversions. The best within first 7 days was Nov'17 cohort with 415 conversions. The best within first 14 days was Nov'17 cohort with 163 conversions. The best within first 30 days was Nov'17 cohort with 190 conversions. The best within more than 30 days was Jun'17 cohort with 794 conversions. \n",
    "\n",
    "We can see that maximum amount of orders per day was done on the 24 of Nov’17  with more than 1200 orders; then on 31 of May’18 - 721 orders on 10 of Jun’17 - 428 (the very beginning of our data set statistics). We saw on our graph that from Sep’17 to Apr’18  there were stable fluctuations mainly between 200 and 400 daily orders except the spike mentioned earlier for Nov’17.\n",
    "\n",
    "Regarding average purchase size per day, 3 days with the max average was on the 10 of Dec’17 - 29, then on the 14 of Jun’17 - 28,  and on the 21 of Sep’17 - 27. \n",
    "\n",
    "**While checking average life time value (LTV) for our users based on their first order and every month following their first order (max 12 terms for the 1sr cohort), we found that the most profitable was Sep'17 cohort that brought on its 4th term an average value equels to '139'; next one also on the 4th term was the Dec'17 cohort with '48' as an average life time value. In average, 1st cohort brought '259' during its 12 terms. It is still less than Sep'17 cohort with average life time value of '281'.**\n",
    "\n",
    "In the second part of our analysis we checked the **Marketing**.\n",
    "\n",
    "As per our data, overall was spent: 327 877. We can see that the highest costs were coming from the source_id 3: Nov'17 - 17 010; Dec'17 - 16 206; Oct'17 - 15 723.\n",
    "Overall top 3 revenues sources were as follows: 3 - 141 144; 4 - 60 900; 5 - 51 565. Top 3 months by money spent by user (regardless the source): Dec'17 - 38 217; Nov'17 - 37 808; Oct'17 - 36 213.\n",
    "While checking Customer Acquisition Cost (CAC) we saw that the lowest CAC was in May'18 - 7.52, the next lowest CAC was in Mar'18 - 8.84; the highest CAC was in Aug'17 - 11.37.\n",
    "What about worthwhile were the investments we saw that the lowest ROMI was in Jun'17 - 0.53; the highest ROMI was in Dec'17 and Mar'18 - 0.95.\n",
    "\n",
    "In general, as we were checking Yandex.Afisha service that offers tickets to the various events, theatres, shows etc, we could find some impact of seasonality with summer break in the events and new year celebrations."
   ]
  },
  {
   "cell_type": "code",
   "execution_count": null,
   "metadata": {},
   "outputs": [],
   "source": []
  }
 ],
 "metadata": {
  "kernelspec": {
   "display_name": "Python 3",
   "language": "python",
   "name": "python3"
  },
  "language_info": {
   "codemirror_mode": {
    "name": "ipython",
    "version": 3
   },
   "file_extension": ".py",
   "mimetype": "text/x-python",
   "name": "python",
   "nbconvert_exporter": "python",
   "pygments_lexer": "ipython3",
   "version": "3.7.8"
  },
  "toc": {
   "base_numbering": 1,
   "nav_menu": {},
   "number_sections": true,
   "sideBar": true,
   "skip_h1_title": false,
   "title_cell": "Table of Contents",
   "title_sidebar": "Contents",
   "toc_cell": false,
   "toc_position": {},
   "toc_section_display": true,
   "toc_window_display": false
  }
 },
 "nbformat": 4,
 "nbformat_minor": 2
}
